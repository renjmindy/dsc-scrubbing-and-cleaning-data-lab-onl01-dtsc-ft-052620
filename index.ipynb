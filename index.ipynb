{
 "cells": [
  {
   "cell_type": "markdown",
   "metadata": {},
   "source": [
    "# Scrubbing and Cleaning Data - Lab\n",
    "\n",
    "## Introduction\n",
    "\n",
    "In the previous labs, you joined the data from our separate files into a single DataFrame.  In this lab, you'll scrub the data to get it ready for exploration and modeling!\n",
    "\n",
    "## Objectives\n",
    "\n",
    "You will be able to:\n",
    "\n",
    "* Perform the full data cleaning process for a dataset\n",
    "* Identify and deal with null values appropriately\n",
    "* Remove unnecessary columns\n",
    "\n",
    "\n",
    "## Getting Started\n",
    "\n",
    "You'll find the resulting dataset from your work in the _Obtaining Data_ Lab stored within the file `'Lego_data_merged.csv'`.  \n",
    "\n",
    "In the cells below:\n",
    "\n",
    "* Import `pandas` and set the standard alias. \n",
    "* Import `numpy` and set the standard alias. \n",
    "* Import `matplotlib.pyplot` and set the standard alias. \n",
    "* Import `seaborn` and set the alias `sns` (this is the standard alias for seaborn). \n",
    "* Use the ipython magic command to set all matplotlib visualizations to display inline in the notebook. \n",
    "* Load the dataset stored in the `'Lego_data_merged.csv'` file into a DataFrame, `df`. \n",
    "* Inspect the head of the DataFrame to ensure everything loaded correctly. "
   ]
  },
  {
   "cell_type": "code",
   "execution_count": 1,
   "metadata": {
    "ExecuteTime": {
     "end_time": "2020-07-12T03:06:33.443956Z",
     "start_time": "2020-07-12T03:06:30.104089Z"
    }
   },
   "outputs": [],
   "source": [
    "# Import statements go here\n",
    "import pandas as pd\n",
    "import numpy as np\n",
    "import math\n",
    "import matplotlib.pyplot as plt\n",
    "%matplotlib inline\n",
    "import seaborn as sns"
   ]
  },
  {
   "cell_type": "code",
   "execution_count": 2,
   "metadata": {
    "ExecuteTime": {
     "end_time": "2020-07-12T03:06:34.451408Z",
     "start_time": "2020-07-12T03:06:34.149295Z"
    }
   },
   "outputs": [
    {
     "data": {
      "text/html": [
       "<div>\n",
       "<style scoped>\n",
       "    .dataframe tbody tr th:only-of-type {\n",
       "        vertical-align: middle;\n",
       "    }\n",
       "\n",
       "    .dataframe tbody tr th {\n",
       "        vertical-align: top;\n",
       "    }\n",
       "\n",
       "    .dataframe thead th {\n",
       "        text-align: right;\n",
       "    }\n",
       "</style>\n",
       "<table border=\"1\" class=\"dataframe\">\n",
       "  <thead>\n",
       "    <tr style=\"text-align: right;\">\n",
       "      <th></th>\n",
       "      <th>prod_id</th>\n",
       "      <th>ages</th>\n",
       "      <th>piece_count</th>\n",
       "      <th>set_name</th>\n",
       "      <th>prod_desc</th>\n",
       "      <th>prod_long_desc</th>\n",
       "      <th>theme_name</th>\n",
       "      <th>country</th>\n",
       "      <th>list_price</th>\n",
       "      <th>num_reviews</th>\n",
       "      <th>play_star_rating</th>\n",
       "      <th>review_difficulty</th>\n",
       "      <th>star_rating</th>\n",
       "      <th>val_star_rating</th>\n",
       "    </tr>\n",
       "  </thead>\n",
       "  <tbody>\n",
       "    <tr>\n",
       "      <td>0</td>\n",
       "      <td>75823</td>\n",
       "      <td>6-12</td>\n",
       "      <td>277</td>\n",
       "      <td>Bird Island Egg Heist</td>\n",
       "      <td>Catapult into action and take back the eggs fr...</td>\n",
       "      <td>Use the staircase catapult to launch Red into ...</td>\n",
       "      <td>Angry Birdsâ¢</td>\n",
       "      <td>US</td>\n",
       "      <td>$29.99</td>\n",
       "      <td>2.0</td>\n",
       "      <td>4.0</td>\n",
       "      <td>Average</td>\n",
       "      <td>4.5</td>\n",
       "      <td>4.0</td>\n",
       "    </tr>\n",
       "    <tr>\n",
       "      <td>1</td>\n",
       "      <td>75822</td>\n",
       "      <td>6-12</td>\n",
       "      <td>168</td>\n",
       "      <td>Piggy Plane Attack</td>\n",
       "      <td>Launch a flying attack and rescue the eggs fro...</td>\n",
       "      <td>Pilot Pig has taken off from Bird Island with ...</td>\n",
       "      <td>Angry Birdsâ¢</td>\n",
       "      <td>US</td>\n",
       "      <td>$19.99</td>\n",
       "      <td>2.0</td>\n",
       "      <td>4.0</td>\n",
       "      <td>Easy</td>\n",
       "      <td>5.0</td>\n",
       "      <td>4.0</td>\n",
       "    </tr>\n",
       "    <tr>\n",
       "      <td>2</td>\n",
       "      <td>75821</td>\n",
       "      <td>6-12</td>\n",
       "      <td>74</td>\n",
       "      <td>Piggy Car Escape</td>\n",
       "      <td>Chase the piggy with lightning-fast Chuck and ...</td>\n",
       "      <td>Pitch speedy bird Chuck against the Piggy Car....</td>\n",
       "      <td>Angry Birdsâ¢</td>\n",
       "      <td>US</td>\n",
       "      <td>$12.99</td>\n",
       "      <td>11.0</td>\n",
       "      <td>4.3</td>\n",
       "      <td>Easy</td>\n",
       "      <td>4.3</td>\n",
       "      <td>4.1</td>\n",
       "    </tr>\n",
       "    <tr>\n",
       "      <td>3</td>\n",
       "      <td>21030</td>\n",
       "      <td>12+</td>\n",
       "      <td>1032</td>\n",
       "      <td>United States Capitol Building</td>\n",
       "      <td>Explore the architecture of the United States ...</td>\n",
       "      <td>Discover the architectural secrets of the icon...</td>\n",
       "      <td>Architecture</td>\n",
       "      <td>US</td>\n",
       "      <td>$99.99</td>\n",
       "      <td>23.0</td>\n",
       "      <td>3.6</td>\n",
       "      <td>Average</td>\n",
       "      <td>4.6</td>\n",
       "      <td>4.3</td>\n",
       "    </tr>\n",
       "    <tr>\n",
       "      <td>4</td>\n",
       "      <td>21035</td>\n",
       "      <td>12+</td>\n",
       "      <td>744</td>\n",
       "      <td>Solomon R. Guggenheim MuseumÂ®</td>\n",
       "      <td>Recreate the Solomon R. Guggenheim MuseumÂ® wi...</td>\n",
       "      <td>Discover the architectural secrets of Frank Ll...</td>\n",
       "      <td>Architecture</td>\n",
       "      <td>US</td>\n",
       "      <td>$79.99</td>\n",
       "      <td>14.0</td>\n",
       "      <td>3.2</td>\n",
       "      <td>Challenging</td>\n",
       "      <td>4.6</td>\n",
       "      <td>4.1</td>\n",
       "    </tr>\n",
       "  </tbody>\n",
       "</table>\n",
       "</div>"
      ],
      "text/plain": [
       "   prod_id  ages  piece_count                        set_name  \\\n",
       "0    75823  6-12          277           Bird Island Egg Heist   \n",
       "1    75822  6-12          168              Piggy Plane Attack   \n",
       "2    75821  6-12           74                Piggy Car Escape   \n",
       "3    21030   12+         1032  United States Capitol Building   \n",
       "4    21035   12+          744  Solomon R. Guggenheim MuseumÂ®   \n",
       "\n",
       "                                           prod_desc  \\\n",
       "0  Catapult into action and take back the eggs fr...   \n",
       "1  Launch a flying attack and rescue the eggs fro...   \n",
       "2  Chase the piggy with lightning-fast Chuck and ...   \n",
       "3  Explore the architecture of the United States ...   \n",
       "4  Recreate the Solomon R. Guggenheim MuseumÂ® wi...   \n",
       "\n",
       "                                      prod_long_desc      theme_name country  \\\n",
       "0  Use the staircase catapult to launch Red into ...  Angry Birdsâ¢      US   \n",
       "1  Pilot Pig has taken off from Bird Island with ...  Angry Birdsâ¢      US   \n",
       "2  Pitch speedy bird Chuck against the Piggy Car....  Angry Birdsâ¢      US   \n",
       "3  Discover the architectural secrets of the icon...    Architecture      US   \n",
       "4  Discover the architectural secrets of Frank Ll...    Architecture      US   \n",
       "\n",
       "  list_price  num_reviews  play_star_rating review_difficulty  star_rating  \\\n",
       "0     $29.99          2.0               4.0           Average          4.5   \n",
       "1     $19.99          2.0               4.0              Easy          5.0   \n",
       "2     $12.99         11.0               4.3              Easy          4.3   \n",
       "3     $99.99         23.0               3.6           Average          4.6   \n",
       "4     $79.99         14.0               3.2       Challenging          4.6   \n",
       "\n",
       "   val_star_rating  \n",
       "0              4.0  \n",
       "1              4.0  \n",
       "2              4.1  \n",
       "3              4.3  \n",
       "4              4.1  "
      ]
     },
     "execution_count": 2,
     "metadata": {},
     "output_type": "execute_result"
    }
   ],
   "source": [
    "# Now, load in the dataset and inspect the head to make sure everything loaded correctly\n",
    "df = pd.read_csv('Lego_data_merged.csv',index_col=None,encoding='latin-1')\n",
    "df.head()"
   ]
  },
  {
   "cell_type": "markdown",
   "metadata": {},
   "source": [
    "## Starting our Data Cleaning\n",
    "\n",
    "To start, you'll deal with the most obvious issue: data features with the wrong data encoding.\n",
    "\n",
    "### Checking Data Types\n",
    "\n",
    "In the cell below, use the appropriate method to check the data type of each column. "
   ]
  },
  {
   "cell_type": "code",
   "execution_count": 3,
   "metadata": {
    "ExecuteTime": {
     "end_time": "2020-07-12T03:06:36.367567Z",
     "start_time": "2020-07-12T03:06:36.334570Z"
    }
   },
   "outputs": [
    {
     "name": "stdout",
     "output_type": "stream",
     "text": [
      "<class 'pandas.core.frame.DataFrame'>\n",
      "RangeIndex: 10870 entries, 0 to 10869\n",
      "Data columns (total 14 columns):\n",
      "prod_id              10870 non-null int64\n",
      "ages                 10870 non-null object\n",
      "piece_count          10870 non-null int64\n",
      "set_name             10870 non-null object\n",
      "prod_desc            10512 non-null object\n",
      "prod_long_desc       10870 non-null object\n",
      "theme_name           10870 non-null object\n",
      "country              10870 non-null object\n",
      "list_price           10870 non-null object\n",
      "num_reviews          9449 non-null float64\n",
      "play_star_rating     9321 non-null float64\n",
      "review_difficulty    9104 non-null object\n",
      "star_rating          9449 non-null float64\n",
      "val_star_rating      9301 non-null float64\n",
      "dtypes: float64(4), int64(2), object(8)\n",
      "memory usage: 1.2+ MB\n"
     ]
    }
   ],
   "source": [
    "# Your code here\n",
    "df.info()"
   ]
  },
  {
   "cell_type": "markdown",
   "metadata": {},
   "source": [
    "Now, investigate some of the unique values inside of the `list_price` column."
   ]
  },
  {
   "cell_type": "code",
   "execution_count": 4,
   "metadata": {
    "ExecuteTime": {
     "end_time": "2020-07-12T03:06:37.929685Z",
     "start_time": "2020-07-12T03:06:37.798679Z"
    }
   },
   "outputs": [
    {
     "name": "stdout",
     "output_type": "stream",
     "text": [
      "--------------------\n",
      "prod_id\n",
      "75531    21\n",
      "76078    21\n",
      "41335    21\n",
      "31076    21\n",
      "41311    21\n",
      "Name: prod_id, dtype: int64\n",
      "--------------------\n",
      "\n",
      "\n",
      "--------------------\n",
      "ages\n",
      "6-12    1476\n",
      "7-14    1219\n",
      "8-14    1055\n",
      "5-12     891\n",
      "2-5      777\n",
      "Name: ages, dtype: int64\n",
      "--------------------\n",
      "\n",
      "\n",
      "--------------------\n",
      "piece_count\n",
      "1      337\n",
      "109     86\n",
      "69      85\n",
      "24      84\n",
      "149     84\n",
      "Name: piece_count, dtype: int64\n",
      "--------------------\n",
      "\n",
      "\n",
      "--------------------\n",
      "set_name\n",
      "Y-Wing Starfighterâ¢    42\n",
      "Kylo Renâ¢              42\n",
      "Chewbaccaâ¢             42\n",
      "Rey                      42\n",
      "Han Soloâ¢              41\n",
      "Name: set_name, dtype: int64\n",
      "--------------------\n",
      "\n",
      "\n",
      "--------------------\n",
      "prod_desc\n",
      "Help Batmanâ¢ stop The Jokerâ¢ escaping!                   21\n",
      "Move heavy goods across LEGOÂ® City with the Cargo Train!    21\n",
      "Enjoy a visit to the adventure farm and feed the animals!    21\n",
      "Create and show off the mighty Hulkbuster!                   21\n",
      "Take to the skies with the Ultralight Helicopter!            21\n",
      "Name: prod_desc, dtype: int64\n",
      "--------------------\n",
      "\n",
      "\n",
      "--------------------\n",
      "prod_long_desc\n",
      "The Flashâ¢ LEGOÂ® BrickHeadz construction character is fun to build using colorful LEGO bricks that recreate all of his iconic details, including buildable golden ear wings and lightning chest logo. He also stands on a buildable collectorâs baseplate with BrickHeadz icon for easy display in your home, office or anywhere you like.\\r\\nBuildable The Flashâ¢ LEGOÂ® BrickHeadz construction character features authentic details from the blockbuster Justice League movie, including BrickHeadz eyes, buildable golden ear wings and a lightning chest logo.\\r\\nEach LEGOÂ® BrickHeadz construction character comes with its own buildable collector's baseplate featuring the BrickHeadz icon.\\r\\nHave fun growing your LEGOÂ® BrickHeadz collection with other super heroes from the blockbuster Justice League movie, and many more from your favorite films, TV series, games and comics.\\r\\nMash up your LEGOÂ® BrickHeadz construction characters to create supercool hybrids or your own amazing characters.\\r\\nThis cool construction character is suitable for ages 10+.\\r\\nStands over 2â (7cm) tall without baseplate.\\r\\nBaseplate measures over 1â (4cm) square and under 1â (1cm) high.                                                                                                                                                                                                                                                                                                                                                                                                                                                                                                                                                                                                                                                                                                                            21\n",
      "Build and discover the Taj Mahal! The huge ivory-white marble mausoleum, renowned as one of the worldâs architectural wonders, was commissioned in 1631 by the Emperor Shah Jahan in memory of his wife, the Empress Mumtaz Mahal. This relaunched 2008 LEGOÂ® Creator Expert interpretation features the structure's 4 facades with sweeping arches, balconies and arched windows. The central dome, subsidiary domed chambers and surrounding minarets are topped with decorative finials, and the raised platform is lined with recessed arches. The model is finished with ornate detailing throughout and intricate tilework around the base. With more than 5,900 pieces, this set is designed to deliver a rewarding building experience and makes a great display piece for the home or office.\\r\\nLEGOÂ® interpretation of the real-world architectural wonder, the Taj Mahal.\\r\\nRelaunched 2008 model, featuring 4 facades with arches and arched windows; central dome, 4 subsidiary domed chambers and 4 minarets, all topped with decorative finials; raised platform lined with recessed arches; ornate detailing throughout; and intricate tilework around the base.\\r\\nDivides into 7 modular sections for easier transportation.\\r\\nPut your LEGOÂ® building skills to the test with one of the largest LEGO models ever created!\\r\\nSpecial elements include 6 blue 16x32 baseplates, white 1x5x4 bricks with bow, lots of transparent elements, âErlingâ bricks and âjumperâ plates.\\r\\nThis set includes over 5,900 LEGOÂ® pieces.\\r\\nMeasures over 16â (43cm) high, 20â (51cm) wide and 20â (51cm) deep.                                                                                                                                                                                                                                                                                                       21\n",
      "Toddlers will have so much fun building their own animal train with the My First Animal Brick Box! Help them sort the bricks into different colors and talk about each iconic animal as you build them and enjoy creative play together: an elephant with a slide for a trunk, a crocodile with hinged jaws, a lion with opening mouth, a giraffe with a bendy neck and a white bird. The bright and chunky LEGOÂ® DUPLOÂ® bricks are specially designed to be fun and safe for small hands and come in a handy storage box.\\r\\nFeatures 5 buildable animals: an elephant on wheels with a slide for a trunk, a crocodile on wheels with hinged jaws, a lion on wheels with opening mouth, a giraffe on wheels with a bendy neck and a bird.\\r\\nHave fun together as your child learns how to recognize and sort colors, and help develop language skills by talking about the iconic animals as you build them.\\r\\nJoin 4 of the animals together to make an animal parade and drive the train around the room.\\r\\nInspire creative play and imagination as toddlers make up their own stories about the animals with this versatile toy.\\r\\nUse the handy storage box to keep all your LEGOÂ® DUPLOÂ® bricks together.\\r\\nMakes an ideal gift for preschool children.\\r\\nLEGOÂ® DUPLOÂ® products are specially designed to be fun and easy for small hands.\\r\\nSuitable for ages 1Â½-3.\\r\\nElephant measures over 4â (12cm) high, 7â (19cm) long and 2â (6cm) wide.\\r\\nCrocodile measures over 4â (12cm) high, 3â (8cm) long and 4â (12cm) wide.\\r\\nLion measures over 4â (12cm) high, 7â (19cm) long and 2â (6cm) wide.\\r\\nGiraffe measures over 6â (16cm) high, 4â (12cm) long and 2â (6cm) wide.\\r\\nBird measures over 4â (11cm) high, 3â (9cm) wide and 4â (11cm) deep.\\r\\nCombine with 10859 My First Ladybug to extend the animal train.\\r\\nAs seen in the LEGOÂ® DUPLOÂ® Create and Connect TV commercial.    21\n",
      "Engage the enemy with the LEGOÂ® Star Wars Imperial TIE Fighter! This brick-built version of the Empireâs iconic attack craft has a highly detailed design, including sturdy wings, opening minifigure cockpit and access hatch, and 2 spring-loaded shooters. This great Star Wars toy also includes 4 minifigures, including Han Solo and his accomplice Tobias Beckett.\\r\\nIncludes 4 minifigures: an Imperial Pilot, Han Solo, Tobias Beckett (in Mimban Stormtrooper disguise) and a Mimban Stormtrooper.\\r\\nFeatures a highly detailed design including sturdy wings, opening minifigure cockpit and access hatch, plus 2 spring-loaded shooters.\\r\\nWeapons include a blaster pistol, blaster, blaster rifle and Tobias Beckett's 2 special blasters.\\r\\nRecreate epic Han Solo movie action scenes or dream up your own.\\r\\nThis LEGOÂ® Star Wars toy is suitable for ages 9-14.\\r\\nMeasures over 9â (23cm) high, 7â (20cm) long and 7â (19cm) wide.                                                                                                                                                                                                                                                                                                                                                                                                                                                                                                                                                                                                                                                                                                                                                                                                                                                                                                                                                                                 21\n",
      "Help the firefighters get the truck and helicopter loaded with gear! Itâs lunchtime, so take a slide down the pole in the firehouse and head to the hot dog stand. On your way, give the firehouse dog his bone. Oh no, the hot dog stand is on fire! Pull out the fire hose and use the special stud-shooter to douse the flames and save the hot wings!\\r\\nBuild a fire station, truck and helicopter loaded with gear!\\r\\nIncludes 4 male firefighters, a female firefighter and a hot dog stand guy, plus a dog\\r\\nLEGO City building toys are compatible with all LEGO construction sets for creative building\\r\\nFire Station measures over 12â high, 16â wide and 9â deep. Fire truck measures over 3â high, 9â long and 2â wide. Helicopter measures over 3â high, 6â long and 1â wide. Fire chiefâs car measures over 1â high, 4â long and 1â wide. Hot dog stand measures over 2â high, 3â wide and 2â deep\\r\\n919 pieces â For boys and girls between the ages of 6 and 12                                                                                                                                                                                                                                                                                                                                                                                                                                                                                                                                                                                                                                                                                                                                                                                                                                                                                                                            21\n",
      "Name: prod_long_desc, dtype: int64\n",
      "--------------------\n",
      "\n",
      "\n",
      "--------------------\n",
      "theme_name\n",
      "Star Warsâ¢    1377\n",
      "DUPLOÂ®         1103\n",
      "City            1072\n",
      "Friends          607\n",
      "Juniors          604\n",
      "Name: theme_name, dtype: int64\n",
      "--------------------\n",
      "\n",
      "\n",
      "--------------------\n",
      "country\n",
      "US    722\n",
      "CA    720\n",
      "NL    510\n",
      "GB    510\n",
      "AT    509\n",
      "Name: country, dtype: int64\n",
      "--------------------\n",
      "\n",
      "\n",
      "--------------------\n",
      "list_price\n",
      "$24.3878    565\n",
      "$36.5878    520\n",
      "$12.1878    515\n",
      "$18.2878    304\n",
      "$42.6878    234\n",
      "Name: list_price, dtype: int64\n",
      "--------------------\n",
      "\n",
      "\n",
      "--------------------\n",
      "num_reviews\n",
      "2.0    1299\n",
      "1.0    1261\n",
      "3.0     815\n",
      "4.0     628\n",
      "6.0     494\n",
      "7.0     487\n",
      "5.0     480\n",
      "Name: num_reviews, dtype: int64\n",
      "--------------------\n",
      "\n",
      "\n",
      "--------------------\n",
      "play_star_rating\n",
      "5.0    2005\n",
      "Name: play_star_rating, dtype: int64\n",
      "--------------------\n",
      "\n",
      "\n",
      "--------------------\n",
      "review_difficulty\n",
      "Easy                3826\n",
      "Average             3357\n",
      "Challenging          995\n",
      "Very Easy            905\n",
      "Very Challenging      21\n",
      "Name: review_difficulty, dtype: int64\n",
      "--------------------\n",
      "\n",
      "\n",
      "--------------------\n",
      "star_rating\n",
      "5.0    2380\n",
      "Name: star_rating, dtype: int64\n",
      "--------------------\n",
      "\n",
      "\n",
      "--------------------\n",
      "val_star_rating\n",
      "5.0    1455\n",
      "Name: val_star_rating, dtype: int64\n",
      "--------------------\n",
      "\n",
      "\n"
     ]
    }
   ],
   "source": [
    "# Your code here\n",
    "def check_cols(df):\n",
    "    for col in df.columns:\n",
    "        try:\n",
    "            print('--------------------')\n",
    "            print(col)\n",
    "            print(df[col].value_counts()[:5])\n",
    "        except:\n",
    "            print('********************')\n",
    "            print(col) \n",
    "            print(df[col].value_counts())\n",
    "            # If there aren't 5+ unique values for a column then first print statement\n",
    "            # will throw an error for an invalid idx slice\n",
    "        print('--------------------')\n",
    "        print('\\n') # Break up the output between columns\n",
    "check_cols(df)"
   ]
  },
  {
   "cell_type": "code",
   "execution_count": 5,
   "metadata": {
    "ExecuteTime": {
     "end_time": "2020-07-12T03:06:39.567794Z",
     "start_time": "2020-07-12T03:06:39.554796Z"
    }
   },
   "outputs": [
    {
     "name": "stdout",
     "output_type": "stream",
     "text": [
      "object\n",
      "733\n",
      "['$29.99', '$19.99', '$12.99', '$99.99', '$79.99', '$59.99', '$49.99', '$39.99', '$34.99', '$159.99', '$9.99', '$199.99', '$149.99', '$119.99', '$89.99', '$69.99', '$24.99', '$15.99', '$14.99', '$6.99', '$16.99', '$7.99', '$4.99', '$2.49', '$369.99', '$169.99', '$279.99', '$249.99', '$239.99', '$139.99', '$269.99', '$129.99', '$44.99', '$11.99', '$349.99', '$5.99', '$109.99', '$54.99', '$32.99', '$197.99', '$88.99', '$41.99', '$31.99', '$26.99', '$21.99', '$3.99', '$299.99', '$754.99', '$484.99', '$36.99', '$789.99', '$499.99', '$84.99', '$799.99', '$289.99', '$179.99', '$113.9924', '$75.9924', '$60.7924', '$53.1924', '$45.59240000000001', '$37.9924', '$189.9924', '$30.3924', '$22.7924', '$12.1524', '$227.9924', '$174.7924', '$121.5924', '$34.1924', '$18.9924', '$17.4724', '$13.6724', '$7.5924', '$15.1924', '$9.8724', '$6.0724', '$2.2724', '$91.1924', '$379.9924', '$303.9924000000001', '$288.7924', '$265.99240000000003', '$220.3924', '$151.9924', '$129.19240000000002', '$83.5924', '$136.7924', '$26.5924', '$53.162000000000006', '$37.962', '$30.362', '$18.962', '$41.7924', '$11.3924', '$68.3924', '$250.7924', '$26.6', '$4.5524', '$144.3924', '$197.5924', '$106.3924', '$645.9924', '$607.9924', '$395.1924', '$29.6324', '$205.1924', '$98.7924', '$987.9924', '$167.19240000000005', '$25.0724', '$121.9878', '$85.3878', '$73.1878', '$60.9878', '$48.7878', '$42.6878', '$36.5878', '$195.1878', '$24.3878', '$12.1878', '$219.5878', '$158.58780000000004', '$146.3878', '$109.7878', '$97.5878', '$21.9478', '$18.2878', '$7.3078', '$30.4878', '$9.7478', '$6.0878000000000005', '$3.0378000000000003', '$54.8878', '$182.9878', '$402.5878', '$292.7878', '$268.3878', '$329.3878', '$426.9878', '$243.9878', '$79.28779999999998', '$67.0878', '$40.2478', '$15.8478', '$28.0478', '$19.5078', '$304.9878', '$4.8678', '$365.9878', '$207.3878', '$853.9878', '$683.1878', '$439.1878', '$609.9878', '$170.7878', '$134.18779999999998', '$20.7278', '$975.9878', '$280.5878', '$45.1278', '$91.4878', '$32.9278', '$14.6278', '$317.1878', '$231.7878', '$128.0878', '$341.5878', '$103.6878', '$487.9878', '$1035.78', '$31.192200000000003', '$19.4922', '$12.4722', '$101.39220000000002', '$77.9922', '$62.3922', '$58.4922', '$54.5922', '$38.9922', '$35.092200000000005', '$155.99220000000003', '$10.1322', '$9.3522', '$179.3922', '$140.3922', '$132.59220000000002', '$116.9922', '$85.7922', '$70.1922', '$50.6922', '$46.7922', '$23.3922', '$15.5922', '$7.0122', '$6.2322000000000015', '$27.2922', '$14.0322', '$7.7922', '$5.4522', '$2.3322000000000003', '$350.9922', '$171.59220000000005', '$265.1922', '$233.99220000000003', '$194.99220000000003', '$148.1922', '$93.5922', '$272.9922', '$124.7922', '$257.3922', '$42.8922', '$11.6922', '$311.9922', '$14.8122', '$3.8922', '$167.6922', '$74.0922', '$28.0722', '$18.7122', '$28.041000000000004', '$109.1922', '$3.1122', '$21.8322', '$588.8922', '$378.2922', '$28.852200000000003', '$616.1922000000002', '$13.252199999999998', '$467.9922', '$701.9922', '$288.5922', '$187.1922', '$17.1522', '$121.38', '$86.59800000000001', '$71.298', '$61.098', '$50.898', '$40.698', '$35.598', '$192.78', '$25.398000000000003', '$12.138', '$213.18', '$151.98', '$141.78', '$101.898', '$91.698', '$23.358', '$20.298', '$18.258', '$7.0379999999999985', '$30.498', '$10.098', '$6.0180000000000025', '$2.958', '$21.318', '$182.58', '$396.78', '$284.58', '$264.18', '$81.498', '$304.98', '$96.798', '$417.18', '$243.78', '$111.18', '$66.19800000000001', '$15.198', '$27.438', '$254.898', '$131.58', '$45.798', '$4.998', '$355.98', '$202.98', '$233.58', '$857.7180000000002', '$821.0898', '$528.258', '$39.678', '$590.58', '$172.38', '$967.98', '$274.38', '$129.55200000000002', '$86.352', '$81.55199999999998', '$67.152', '$62.352', '$57.552', '$43.152', '$38.352', '$215.952', '$23.952', '$12.432', '$239.952', '$177.55200000000005', '$158.352', '$143.952', '$139.15200000000002', '$124.75200000000001', '$110.352', '$95.952', '$76.752', '$52.752', '$19.152', '$12.912', '$11.952', '$7.152', '$47.952', '$40.752', '$33.552', '$9.552', '$6.192', '$3.3120000000000003', '$431.952', '$335.952', '$311.952', '$167.952', '$119.952', '$383.952', '$115.152', '$479.952', '$287.952', '$28.752', '$134.352', '$16.752', '$91.152', '$71.952', '$191.952', '$163.15200000000004', '$503.952', '$263.952', '$4.752', '$14.352', '$767.952', '$715.2', '$719.952', '$153.55200000000005', '$955.2', '$21.552', '$81.72779999999999', '$176.8878', '$10.9678', '$82.94779999999999', '$37.8078', '$251.3078', '$165.9078', '$115.88779999999998', '$69.5278', '$35.36779999999999', '$92.7078', '$17.0678', '$43.9078', '$463.5878', '$47.5678', '$152.4878', '$225.6878', '$140.2878', '$213.4878', '$68.3078', '$104.9078', '$93.9278', '$974.78', '$164.6878', '$13.4078', '$107.88', '$77.88', '$65.88', '$53.88', '$47.88', '$41.88', '$36.0', '$30.0', '$167.88', '$32.4', '$24.0', '$12.0', '$203.88', '$131.88', '$119.88', '$95.88', '$89.88', '$21.6', '$18.0', '$15.6', '$6.0', '$27.6', '$8.4', '$4.8', '$2.4', '$323.88', '$251.88', '$239.88', '$179.88', '$155.88', '$71.88', '$275.88', '$29.88', '$23.88', '$15.48', '$359.88', '$10.8', '$83.88', '$59.88', '$143.88', '$3.6', '$311.88', '$215.88', '$522.0', '$499.2', '$321.12', '$539.88', '$102.0', '$839.88', '$146.339', '$109.739', '$91.439', '$79.23899999999998', '$60.93899999999999', '$48.739', '$42.639', '$231.739', '$30.439', '$15.799', '$243.939', '$182.939', '$170.73899999999998', '$121.939', '$103.639', '$85.339', '$73.139', '$36.539', '$24.339', '$21.899', '$7.258999999999999', '$12.139', '$6.039', '$3.599', '$67.039', '$219.539', '$487.939', '$341.539', '$329.339', '$268.339', '$134.139', '$97.539', '$365.939', '$54.83900000000001', '$280.539', '$158.539', '$18.239', '$32.879', '$195.139', '$4.819', '$426.939', '$304.939', '$731.9390000000003', '$292.7390000000001', '$1097.939', '$353.7390000000001', '$115.839', '$207.33900000000003', '$45.75', '$23.1678', '$46.3478', '$29.2678', '$475.7878', '$52.4478', '$451.3878', '$21.35', '$25.6078', '$201.2878', '$136.62779999999998', '$118.986', '$90.986', '$76.986', '$62.986', '$41.986', '$209.986', '$36.385999999999996', '$25.186', '$13.985999999999999', '$11.186', '$153.986', '$111.986', '$97.986', '$55.986', '$48.986', '$34.986', '$27.986', '$22.386', '$20.986', '$18.186', '$14.686', '$12.586', '$6.9860000000000015', '$9.786', '$2.786', '$39.18599999999999', '$181.986', '$419.986', '$307.986', '$251.986', '$223.986', '$200.186', '$104.986', '$349.986', '$139.986', '$69.986', '$57.386', '$23.785999999999998', '$16.785999999999998', '$5.586', '$83.986', '$15.386', '$398.986', '$195.986', '$167.986', '$125.986', '$284.186', '$114.786', '$32.18599999999999', '$29.386', '$363.986', '$4.186', '$713.9860000000001', '$686.252', '$440.986', '$33.586', '$573.986', '$237.986', '$909.986', '$265.986', '$64.6478', '$22.3138', '$31.7078', '$309.8678', '$189.0878', '$16.104', '$256.1878', '$43.3954', '$89.0478', '$15.2378', '$378.1878', '$101.2478', '$155.87', '$103.87', '$90.87', '$77.87', '$64.87', '$58.37000000000001', '$51.87000000000001', '$45.37000000000001', '$220.87', '$25.987', '$12.987000000000002', '$259.87', '$181.87', '$142.87', '$129.87', '$116.87', '$97.37', '$90.987', '$71.37', '$45.487', '$38.987', '$29.887', '$28.587000000000003', '$25.87', '$22.087', '$7.787000000000001', '$19.487000000000002', '$10.387', '$6.487', '$3.12', '$233.87', '$454.87', '$389.87', '$324.87', '$168.87', '$493.87', '$285.87', '$32.486999999999995', '$23.387', '$15.587000000000002', '$38.87000000000001', '$84.37', '$207.87', '$194.87', '$22.035', '$363.87', '$5.187', '$415.87', '$246.87', '$16.887', '$605.735', '$579.735', '$371.735', '$28.535', '$714.87', '$298.87', '$1104.87', '$337.87', '$127.7929', '$92.2929', '$70.99289999999998', '$63.89289999999999', '$49.6929', '$42.5929', '$212.9929', '$35.4929', '$28.3929', '$14.192899999999998', '$269.7929', '$198.7929', '$177.4929', '$120.6929', '$78.09289999999999', '$56.7929', '$24.8429', '$21.2929', '$9.2229', '$7.0929', '$31.9429', '$17.7429', '$3.5429', '$85.1929', '$425.9929', '$319.4929', '$283.9929', '$248.4929', '$156.1929', '$141.9929', '$99.3929', '$354.9929', '$262.6929', '$12.772899999999998', '$106.4929', '$11.3529', '$16.322899999999994', '$191.6929', '$24.1329', '$22.365', '$163.2929', '$4.2529', '$922.9929', '$709.9929', '$567.29', '$638.9929', '$184.5929', '$113.5929', '$1064.9929', '$130.4971', '$86.9971', '$81.19709999999998', '$63.7971', '$57.9971', '$52.1971', '$43.4971', '$37.6971', '$202.9971', '$26.0971', '$13.0471', '$12.4671', '$231.9971', '$173.9971', '$144.9971', '$121.7971', '$115.9971', '$104.3971', '$89.8971', '$72.4971', '$60.8971', '$23.197099999999995', '$20.2971', '$11.5971', '$7.247099999999999', '$34.79709999999999', '$28.9971', '$17.3971', '$10.1471', '$5.7971', '$2.8971', '$78.2971', '$75.3971', '$46.3971', '$31.897099999999995', '$435.0', '$319.0', '$289.9971', '$240.6971', '$197.1971', '$188.4971', '$159.4971', '$92.7971', '$348.0', '$66.69709999999999', '$49.2971', '$40.5971', '$110.1971', '$449.21', '$275.4971', '$107.2971', '$95.6971', '$55.0971', '$464.0', '$153.6971', '$98.5971', '$69.5971', '$179.7971', '$136.2971', '$478.4971', '$304.4971', '$345.1', '$4.93', '$391.5', '$226.1971', '$101.4971', '$260.9971', '$869.9999999999999', '$725.0', '$667.0', '$133.3971', '$113.0971', '$1015.0', '$304.21', '$165.2971', '$118.8971', '$181.7678', '$153.7078']\n"
     ]
    }
   ],
   "source": [
    "print(df.list_price.dtype)\n",
    "print(df.list_price.nunique())\n",
    "print(list(df.list_price.unique()))"
   ]
  },
  {
   "cell_type": "markdown",
   "metadata": {},
   "source": [
    "### Numerical Data Stored as Strings\n",
    "\n",
    "A common issue to check for at this stage is numeric columns that have accidentally been encoded as strings. For example, you should notice that the `list_price` column above is currently formatted as a string and contains a proceeding '$'. Remove this and convert the remaining number to a `float` so that you can later model this value. After all, your primary task is to generate model to predict the price.\n",
    "\n",
    "> Note: While the data spans a multitude of countries, assume for now that all prices have been standardized to USD."
   ]
  },
  {
   "cell_type": "code",
   "execution_count": 6,
   "metadata": {
    "ExecuteTime": {
     "end_time": "2020-07-12T03:06:42.422761Z",
     "start_time": "2020-07-12T03:06:42.361758Z"
    }
   },
   "outputs": [
    {
     "name": "stdout",
     "output_type": "stream",
     "text": [
      "float64\n",
      "733\n",
      "[29.99, 19.99, 12.99, 99.99, 79.99, 59.99, 49.99, 39.99, 34.99, 159.99, 9.99, 199.99, 149.99, 119.99, 89.99, 69.99, 24.99, 15.99, 14.99, 6.99, 16.99, 7.99, 4.99, 2.49, 369.99, 169.99, 279.99, 249.99, 239.99, 139.99, 269.99, 129.99, 44.99, 11.99, 349.99, 5.99, 109.99, 54.99, 32.99, 197.99, 88.99, 41.99, 31.99, 26.99, 21.99, 3.99, 299.99, 754.99, 484.99, 36.99, 789.99, 499.99, 84.99, 799.99, 289.99, 179.99, 113.9924, 75.9924, 60.7924, 53.1924, 45.59240000000001, 37.9924, 189.9924, 30.3924, 22.7924, 12.1524, 227.9924, 174.7924, 121.5924, 34.1924, 18.9924, 17.4724, 13.6724, 7.5924, 15.1924, 9.8724, 6.0724, 2.2724, 91.1924, 379.9924, 303.9924000000001, 288.7924, 265.99240000000003, 220.3924, 151.9924, 129.19240000000002, 83.5924, 136.7924, 26.5924, 53.162000000000006, 37.962, 30.362, 18.962, 41.7924, 11.3924, 68.3924, 250.7924, 26.6, 4.5524, 144.3924, 197.5924, 106.3924, 645.9924, 607.9924, 395.1924, 29.6324, 205.1924, 98.7924, 987.9924, 167.19240000000005, 25.0724, 121.9878, 85.3878, 73.1878, 60.9878, 48.7878, 42.6878, 36.5878, 195.1878, 24.3878, 12.1878, 219.5878, 158.58780000000004, 146.3878, 109.7878, 97.5878, 21.9478, 18.2878, 7.3078, 30.4878, 9.7478, 6.0878000000000005, 3.0378000000000003, 54.8878, 182.9878, 402.5878, 292.7878, 268.3878, 329.3878, 426.9878, 243.9878, 79.28779999999998, 67.0878, 40.2478, 15.8478, 28.0478, 19.5078, 304.9878, 4.8678, 365.9878, 207.3878, 853.9878, 683.1878, 439.1878, 609.9878, 170.7878, 134.18779999999998, 20.7278, 975.9878, 280.5878, 45.1278, 91.4878, 32.9278, 14.6278, 317.1878, 231.7878, 128.0878, 341.5878, 103.6878, 487.9878, 1035.78, 31.192200000000003, 19.4922, 12.4722, 101.39220000000002, 77.9922, 62.3922, 58.4922, 54.5922, 38.9922, 35.092200000000005, 155.99220000000003, 10.1322, 9.3522, 179.3922, 140.3922, 132.59220000000002, 116.9922, 85.7922, 70.1922, 50.6922, 46.7922, 23.3922, 15.5922, 7.0122, 6.2322000000000015, 27.2922, 14.0322, 7.7922, 5.4522, 2.3322000000000003, 350.9922, 171.59220000000005, 265.1922, 233.99220000000003, 194.99220000000003, 148.1922, 93.5922, 272.9922, 124.7922, 257.3922, 42.8922, 11.6922, 311.9922, 14.8122, 3.8922, 167.6922, 74.0922, 28.0722, 18.7122, 28.041000000000004, 109.1922, 3.1122, 21.8322, 588.8922, 378.2922, 28.852200000000003, 616.1922000000002, 13.252199999999998, 467.9922, 701.9922, 288.5922, 187.1922, 17.1522, 121.38, 86.59800000000001, 71.298, 61.098, 50.898, 40.698, 35.598, 192.78, 25.398000000000003, 12.138, 213.18, 151.98, 141.78, 101.898, 91.698, 23.358, 20.298, 18.258, 7.0379999999999985, 30.498, 10.098, 6.0180000000000025, 2.958, 21.318, 182.58, 396.78, 284.58, 264.18, 81.498, 304.98, 96.798, 417.18, 243.78, 111.18, 66.19800000000001, 15.198, 27.438, 254.898, 131.58, 45.798, 4.998, 355.98, 202.98, 233.58, 857.7180000000002, 821.0898, 528.258, 39.678, 590.58, 172.38, 967.98, 274.38, 129.55200000000002, 86.352, 81.55199999999998, 67.152, 62.352, 57.552, 43.152, 38.352, 215.952, 23.952, 12.432, 239.952, 177.55200000000005, 158.352, 143.952, 139.15200000000002, 124.75200000000001, 110.352, 95.952, 76.752, 52.752, 19.152, 12.912, 11.952, 7.152, 47.952, 40.752, 33.552, 9.552, 6.192, 3.3120000000000003, 431.952, 335.952, 311.952, 167.952, 119.952, 383.952, 115.152, 479.952, 287.952, 28.752, 134.352, 16.752, 91.152, 71.952, 191.952, 163.15200000000004, 503.952, 263.952, 4.752, 14.352, 767.952, 715.2, 719.952, 153.55200000000005, 955.2, 21.552, 81.72779999999999, 176.8878, 10.9678, 82.94779999999999, 37.8078, 251.3078, 165.9078, 115.88779999999998, 69.5278, 35.36779999999999, 92.7078, 17.0678, 43.9078, 463.5878, 47.5678, 152.4878, 225.6878, 140.2878, 213.4878, 68.3078, 104.9078, 93.9278, 974.78, 164.6878, 13.4078, 107.88, 77.88, 65.88, 53.88, 47.88, 41.88, 36.0, 30.0, 167.88, 32.4, 24.0, 12.0, 203.88, 131.88, 119.88, 95.88, 89.88, 21.6, 18.0, 15.6, 6.0, 27.6, 8.4, 4.8, 2.4, 323.88, 251.88, 239.88, 179.88, 155.88, 71.88, 275.88, 29.88, 23.88, 15.48, 359.88, 10.8, 83.88, 59.88, 143.88, 3.6, 311.88, 215.88, 522.0, 499.2, 321.12, 539.88, 102.0, 839.88, 146.339, 109.739, 91.439, 79.23899999999998, 60.93899999999999, 48.739, 42.639, 231.739, 30.439, 15.799, 243.939, 182.939, 170.73899999999998, 121.939, 103.639, 85.339, 73.139, 36.539, 24.339, 21.899, 7.258999999999999, 12.139, 6.039, 3.599, 67.039, 219.539, 487.939, 341.539, 329.339, 268.339, 134.139, 97.539, 365.939, 54.83900000000001, 280.539, 158.539, 18.239, 32.879, 195.139, 4.819, 426.939, 304.939, 731.9390000000003, 292.7390000000001, 1097.939, 353.7390000000001, 115.839, 207.33900000000003, 45.75, 23.1678, 46.3478, 29.2678, 475.7878, 52.4478, 451.3878, 21.35, 25.6078, 201.2878, 136.62779999999998, 118.986, 90.986, 76.986, 62.986, 41.986, 209.986, 36.385999999999996, 25.186, 13.985999999999999, 11.186, 153.986, 111.986, 97.986, 55.986, 48.986, 34.986, 27.986, 22.386, 20.986, 18.186, 14.686, 12.586, 6.9860000000000015, 9.786, 2.786, 39.18599999999999, 181.986, 419.986, 307.986, 251.986, 223.986, 200.186, 104.986, 349.986, 139.986, 69.986, 57.386, 23.785999999999998, 16.785999999999998, 5.586, 83.986, 15.386, 398.986, 195.986, 167.986, 125.986, 284.186, 114.786, 32.18599999999999, 29.386, 363.986, 4.186, 713.9860000000001, 686.252, 440.986, 33.586, 573.986, 237.986, 909.986, 265.986, 64.6478, 22.3138, 31.7078, 309.8678, 189.0878, 16.104, 256.1878, 43.3954, 89.0478, 15.2378, 378.1878, 101.2478, 155.87, 103.87, 90.87, 77.87, 64.87, 58.37000000000001, 51.87000000000001, 45.37000000000001, 220.87, 25.987, 12.987000000000002, 259.87, 181.87, 142.87, 129.87, 116.87, 97.37, 90.987, 71.37, 45.487, 38.987, 29.887, 28.587000000000003, 25.87, 22.087, 7.787000000000001, 19.487000000000002, 10.387, 6.487, 3.12, 233.87, 454.87, 389.87, 324.87, 168.87, 493.87, 285.87, 32.486999999999995, 23.387, 15.587000000000002, 38.87000000000001, 84.37, 207.87, 194.87, 22.035, 363.87, 5.187, 415.87, 246.87, 16.887, 605.735, 579.735, 371.735, 28.535, 714.87, 298.87, 1104.87, 337.87, 127.7929, 92.2929, 70.99289999999998, 63.89289999999999, 49.6929, 42.5929, 212.9929, 35.4929, 28.3929, 14.192899999999998, 269.7929, 198.7929, 177.4929, 120.6929, 78.09289999999999, 56.7929, 24.8429, 21.2929, 9.2229, 7.0929, 31.9429, 17.7429, 3.5429, 85.1929, 425.9929, 319.4929, 283.9929, 248.4929, 156.1929, 141.9929, 99.3929, 354.9929, 262.6929, 12.772899999999998, 106.4929, 11.3529, 16.322899999999994, 191.6929, 24.1329, 22.365, 163.2929, 4.2529, 922.9929, 709.9929, 567.29, 638.9929, 184.5929, 113.5929, 1064.9929, 130.4971, 86.9971, 81.19709999999998, 63.7971, 57.9971, 52.1971, 43.4971, 37.6971, 202.9971, 26.0971, 13.0471, 12.4671, 231.9971, 173.9971, 144.9971, 121.7971, 115.9971, 104.3971, 89.8971, 72.4971, 60.8971, 23.197099999999995, 20.2971, 11.5971, 7.247099999999999, 34.79709999999999, 28.9971, 17.3971, 10.1471, 5.7971, 2.8971, 78.2971, 75.3971, 46.3971, 31.897099999999995, 435.0, 319.0, 289.9971, 240.6971, 197.1971, 188.4971, 159.4971, 92.7971, 348.0, 66.69709999999999, 49.2971, 40.5971, 110.1971, 449.21, 275.4971, 107.2971, 95.6971, 55.0971, 464.0, 153.6971, 98.5971, 69.5971, 179.7971, 136.2971, 478.4971, 304.4971, 345.1, 4.93, 391.5, 226.1971, 101.4971, 260.9971, 869.9999999999999, 725.0, 667.0, 133.3971, 113.0971, 1015.0, 304.21, 165.2971, 118.8971, 181.7678, 153.7078]\n"
     ]
    }
   ],
   "source": [
    "# Your code here\n",
    "def convert_str2num(df, col):\n",
    "    df_clone = df.copy()\n",
    "    df_clone[col] = df_clone[col].str.replace('$','').astype('float64')\n",
    "    return df_clone\n",
    "\n",
    "df2 = convert_str2num(df, 'list_price')\n",
    "print(df2.list_price.dtype)\n",
    "print(df2.list_price.nunique())\n",
    "print(list(df2.list_price.unique()))"
   ]
  },
  {
   "cell_type": "markdown",
   "metadata": {},
   "source": [
    "### Detecting and Dealing With Null Values\n",
    "\n",
    "Next, it's time to check for null values. How to deal with the null values will be determined by the columns containing them, and how many null values exist in each.  \n",
    " \n",
    "In the cell below, get a count of how many null values exist in each column in the DataFrame. "
   ]
  },
  {
   "cell_type": "code",
   "execution_count": 7,
   "metadata": {
    "ExecuteTime": {
     "end_time": "2020-07-12T03:06:44.955985Z",
     "start_time": "2020-07-12T03:06:44.879982Z"
    }
   },
   "outputs": [
    {
     "name": "stdout",
     "output_type": "stream",
     "text": [
      "'NaN' found in columns as follows:\n",
      "\tprod_desc                      contains        358 null values ( 3.29%) !\n",
      "\tnum_reviews                    contains       1421 null values (13.07%) !\n",
      "\tplay_star_rating               contains       1549 null values (14.25%) !\n",
      "\treview_difficulty              contains       1766 null values (16.25%) !\n",
      "\tstar_rating                    contains       1421 null values (13.07%) !\n",
      "\tval_star_rating                contains       1569 null values (14.43%) !\n"
     ]
    }
   ],
   "source": [
    "# Your code here\n",
    "def find_null_cols(df):\n",
    "    df_clone = df.copy()\n",
    "    print('\\'NaN\\' found in columns as follows:')\n",
    "    for col in df_clone.columns:\n",
    "        if (df_clone[col].isnull().any()) | (df_clone[col].isna().any()):\n",
    "            print(f'\\t{col:30} contains {df_clone[col].isna().sum():10} null values ({df_clone[col].isna().sum()*100/df_clone.shape[0]:5.2f}%) !')\n",
    "    return None\n",
    "find_null_cols(df2)"
   ]
  },
  {
   "cell_type": "code",
   "execution_count": 8,
   "metadata": {
    "ExecuteTime": {
     "end_time": "2020-07-12T03:06:46.830123Z",
     "start_time": "2020-07-12T03:06:46.814122Z"
    }
   },
   "outputs": [
    {
     "data": {
      "text/plain": [
       "dtype('float64')"
      ]
     },
     "execution_count": 8,
     "metadata": {},
     "output_type": "execute_result"
    }
   ],
   "source": [
    "df2[df2.play_star_rating.isna()].play_star_rating.dtype"
   ]
  },
  {
   "cell_type": "markdown",
   "metadata": {},
   "source": [
    "Now, get some descriptive statistics for each of the columns. You want to see where the minimum and maximum values lie.  "
   ]
  },
  {
   "cell_type": "code",
   "execution_count": 9,
   "metadata": {
    "ExecuteTime": {
     "end_time": "2020-07-12T03:06:48.507242Z",
     "start_time": "2020-07-12T03:06:48.417242Z"
    }
   },
   "outputs": [
    {
     "data": {
      "text/html": [
       "<div>\n",
       "<style scoped>\n",
       "    .dataframe tbody tr th:only-of-type {\n",
       "        vertical-align: middle;\n",
       "    }\n",
       "\n",
       "    .dataframe tbody tr th {\n",
       "        vertical-align: top;\n",
       "    }\n",
       "\n",
       "    .dataframe thead th {\n",
       "        text-align: right;\n",
       "    }\n",
       "</style>\n",
       "<table border=\"1\" class=\"dataframe\">\n",
       "  <thead>\n",
       "    <tr style=\"text-align: right;\">\n",
       "      <th></th>\n",
       "      <th>prod_id</th>\n",
       "      <th>piece_count</th>\n",
       "      <th>list_price</th>\n",
       "      <th>num_reviews</th>\n",
       "      <th>play_star_rating</th>\n",
       "      <th>star_rating</th>\n",
       "      <th>val_star_rating</th>\n",
       "    </tr>\n",
       "  </thead>\n",
       "  <tbody>\n",
       "    <tr>\n",
       "      <td>count</td>\n",
       "      <td>1.087000e+04</td>\n",
       "      <td>10870.000000</td>\n",
       "      <td>10870.000000</td>\n",
       "      <td>9449.000000</td>\n",
       "      <td>9321.000000</td>\n",
       "      <td>9449.000000</td>\n",
       "      <td>9301.000000</td>\n",
       "    </tr>\n",
       "    <tr>\n",
       "      <td>mean</td>\n",
       "      <td>6.181634e+04</td>\n",
       "      <td>503.936431</td>\n",
       "      <td>67.309137</td>\n",
       "      <td>17.813737</td>\n",
       "      <td>4.355413</td>\n",
       "      <td>4.510319</td>\n",
       "      <td>4.214439</td>\n",
       "    </tr>\n",
       "    <tr>\n",
       "      <td>std</td>\n",
       "      <td>1.736390e+05</td>\n",
       "      <td>831.209318</td>\n",
       "      <td>94.669414</td>\n",
       "      <td>38.166693</td>\n",
       "      <td>0.617272</td>\n",
       "      <td>0.516463</td>\n",
       "      <td>0.670906</td>\n",
       "    </tr>\n",
       "    <tr>\n",
       "      <td>min</td>\n",
       "      <td>6.300000e+02</td>\n",
       "      <td>1.000000</td>\n",
       "      <td>2.272400</td>\n",
       "      <td>1.000000</td>\n",
       "      <td>1.000000</td>\n",
       "      <td>1.800000</td>\n",
       "      <td>1.000000</td>\n",
       "    </tr>\n",
       "    <tr>\n",
       "      <td>25%</td>\n",
       "      <td>2.112300e+04</td>\n",
       "      <td>97.000000</td>\n",
       "      <td>21.899000</td>\n",
       "      <td>2.000000</td>\n",
       "      <td>4.000000</td>\n",
       "      <td>4.300000</td>\n",
       "      <td>4.000000</td>\n",
       "    </tr>\n",
       "    <tr>\n",
       "      <td>50%</td>\n",
       "      <td>4.207350e+04</td>\n",
       "      <td>223.000000</td>\n",
       "      <td>36.587800</td>\n",
       "      <td>6.000000</td>\n",
       "      <td>4.500000</td>\n",
       "      <td>4.600000</td>\n",
       "      <td>4.300000</td>\n",
       "    </tr>\n",
       "    <tr>\n",
       "      <td>75%</td>\n",
       "      <td>7.124800e+04</td>\n",
       "      <td>556.000000</td>\n",
       "      <td>73.187800</td>\n",
       "      <td>14.000000</td>\n",
       "      <td>4.800000</td>\n",
       "      <td>5.000000</td>\n",
       "      <td>4.700000</td>\n",
       "    </tr>\n",
       "    <tr>\n",
       "      <td>max</td>\n",
       "      <td>2.000431e+06</td>\n",
       "      <td>7541.000000</td>\n",
       "      <td>1104.870000</td>\n",
       "      <td>367.000000</td>\n",
       "      <td>5.000000</td>\n",
       "      <td>5.000000</td>\n",
       "      <td>5.000000</td>\n",
       "    </tr>\n",
       "  </tbody>\n",
       "</table>\n",
       "</div>"
      ],
      "text/plain": [
       "            prod_id   piece_count    list_price  num_reviews  \\\n",
       "count  1.087000e+04  10870.000000  10870.000000  9449.000000   \n",
       "mean   6.181634e+04    503.936431     67.309137    17.813737   \n",
       "std    1.736390e+05    831.209318     94.669414    38.166693   \n",
       "min    6.300000e+02      1.000000      2.272400     1.000000   \n",
       "25%    2.112300e+04     97.000000     21.899000     2.000000   \n",
       "50%    4.207350e+04    223.000000     36.587800     6.000000   \n",
       "75%    7.124800e+04    556.000000     73.187800    14.000000   \n",
       "max    2.000431e+06   7541.000000   1104.870000   367.000000   \n",
       "\n",
       "       play_star_rating  star_rating  val_star_rating  \n",
       "count       9321.000000  9449.000000      9301.000000  \n",
       "mean           4.355413     4.510319         4.214439  \n",
       "std            0.617272     0.516463         0.670906  \n",
       "min            1.000000     1.800000         1.000000  \n",
       "25%            4.000000     4.300000         4.000000  \n",
       "50%            4.500000     4.600000         4.300000  \n",
       "75%            4.800000     5.000000         4.700000  \n",
       "max            5.000000     5.000000         5.000000  "
      ]
     },
     "execution_count": 9,
     "metadata": {},
     "output_type": "execute_result"
    }
   ],
   "source": [
    "# Your code here\n",
    "df2.describe()"
   ]
  },
  {
   "cell_type": "markdown",
   "metadata": {},
   "source": [
    "Now that you have a bit more of a understanding of each of these features you can make an informed decision about the best strategy for dealing with the various null values. \n",
    "\n",
    "Some common strategies for filling null values include:\n",
    "* Using the mean of the feature\n",
    "* Using the median of the feature\n",
    "* Inserting a random value from a normal distribution with the mean and std of the feature\n",
    "* Binning\n",
    "\n",
    "Given that most of the features with null values concern user reviews of the lego set, it is reasonable to wonder whether there is strong correlation between these features in the first place. Before proceeding, take a minute to investigate this hypothesis."
   ]
  },
  {
   "cell_type": "code",
   "execution_count": 10,
   "metadata": {
    "ExecuteTime": {
     "end_time": "2020-07-12T03:06:50.420385Z",
     "start_time": "2020-07-12T03:06:50.388380Z"
    }
   },
   "outputs": [
    {
     "data": {
      "text/html": [
       "<div>\n",
       "<style scoped>\n",
       "    .dataframe tbody tr th:only-of-type {\n",
       "        vertical-align: middle;\n",
       "    }\n",
       "\n",
       "    .dataframe tbody tr th {\n",
       "        vertical-align: top;\n",
       "    }\n",
       "\n",
       "    .dataframe thead th {\n",
       "        text-align: right;\n",
       "    }\n",
       "</style>\n",
       "<table border=\"1\" class=\"dataframe\">\n",
       "  <thead>\n",
       "    <tr style=\"text-align: right;\">\n",
       "      <th></th>\n",
       "      <th>num_reviews</th>\n",
       "      <th>play_star_rating</th>\n",
       "      <th>star_rating</th>\n",
       "      <th>val_star_rating</th>\n",
       "    </tr>\n",
       "  </thead>\n",
       "  <tbody>\n",
       "    <tr>\n",
       "      <td>num_reviews</td>\n",
       "      <td>1.000000</td>\n",
       "      <td>-0.060884</td>\n",
       "      <td>0.004541</td>\n",
       "      <td>0.026664</td>\n",
       "    </tr>\n",
       "    <tr>\n",
       "      <td>play_star_rating</td>\n",
       "      <td>-0.060884</td>\n",
       "      <td>1.000000</td>\n",
       "      <td>0.619246</td>\n",
       "      <td>0.484341</td>\n",
       "    </tr>\n",
       "    <tr>\n",
       "      <td>star_rating</td>\n",
       "      <td>0.004541</td>\n",
       "      <td>0.619246</td>\n",
       "      <td>1.000000</td>\n",
       "      <td>0.731538</td>\n",
       "    </tr>\n",
       "    <tr>\n",
       "      <td>val_star_rating</td>\n",
       "      <td>0.026664</td>\n",
       "      <td>0.484341</td>\n",
       "      <td>0.731538</td>\n",
       "      <td>1.000000</td>\n",
       "    </tr>\n",
       "  </tbody>\n",
       "</table>\n",
       "</div>"
      ],
      "text/plain": [
       "                  num_reviews  play_star_rating  star_rating  val_star_rating\n",
       "num_reviews          1.000000         -0.060884     0.004541         0.026664\n",
       "play_star_rating    -0.060884          1.000000     0.619246         0.484341\n",
       "star_rating          0.004541          0.619246     1.000000         0.731538\n",
       "val_star_rating      0.026664          0.484341     0.731538         1.000000"
      ]
     },
     "execution_count": 10,
     "metadata": {},
     "output_type": "execute_result"
    }
   ],
   "source": [
    "# Investigate whether multicollinearity exists between the review features \n",
    "# (num_reviews, play_star_rating, star_rating, val_star_rating)\n",
    "feats = ['num_reviews','play_star_rating','star_rating','val_star_rating']\n",
    "df2[feats].corr()"
   ]
  },
  {
   "cell_type": "code",
   "execution_count": 11,
   "metadata": {
    "ExecuteTime": {
     "end_time": "2020-07-12T03:06:52.354524Z",
     "start_time": "2020-07-12T03:06:52.338525Z"
    }
   },
   "outputs": [
    {
     "data": {
      "text/html": [
       "<div>\n",
       "<style scoped>\n",
       "    .dataframe tbody tr th:only-of-type {\n",
       "        vertical-align: middle;\n",
       "    }\n",
       "\n",
       "    .dataframe tbody tr th {\n",
       "        vertical-align: top;\n",
       "    }\n",
       "\n",
       "    .dataframe thead th {\n",
       "        text-align: right;\n",
       "    }\n",
       "</style>\n",
       "<table border=\"1\" class=\"dataframe\">\n",
       "  <thead>\n",
       "    <tr style=\"text-align: right;\">\n",
       "      <th></th>\n",
       "      <th>num_reviews</th>\n",
       "      <th>play_star_rating</th>\n",
       "      <th>star_rating</th>\n",
       "      <th>val_star_rating</th>\n",
       "    </tr>\n",
       "  </thead>\n",
       "  <tbody>\n",
       "    <tr>\n",
       "      <td>0</td>\n",
       "      <td>2.0</td>\n",
       "      <td>4.0</td>\n",
       "      <td>4.5</td>\n",
       "      <td>4.0</td>\n",
       "    </tr>\n",
       "    <tr>\n",
       "      <td>1</td>\n",
       "      <td>2.0</td>\n",
       "      <td>4.0</td>\n",
       "      <td>5.0</td>\n",
       "      <td>4.0</td>\n",
       "    </tr>\n",
       "    <tr>\n",
       "      <td>2</td>\n",
       "      <td>11.0</td>\n",
       "      <td>4.3</td>\n",
       "      <td>4.3</td>\n",
       "      <td>4.1</td>\n",
       "    </tr>\n",
       "    <tr>\n",
       "      <td>3</td>\n",
       "      <td>23.0</td>\n",
       "      <td>3.6</td>\n",
       "      <td>4.6</td>\n",
       "      <td>4.3</td>\n",
       "    </tr>\n",
       "    <tr>\n",
       "      <td>4</td>\n",
       "      <td>14.0</td>\n",
       "      <td>3.2</td>\n",
       "      <td>4.6</td>\n",
       "      <td>4.1</td>\n",
       "    </tr>\n",
       "  </tbody>\n",
       "</table>\n",
       "</div>"
      ],
      "text/plain": [
       "   num_reviews  play_star_rating  star_rating  val_star_rating\n",
       "0          2.0               4.0          4.5              4.0\n",
       "1          2.0               4.0          5.0              4.0\n",
       "2         11.0               4.3          4.3              4.1\n",
       "3         23.0               3.6          4.6              4.3\n",
       "4         14.0               3.2          4.6              4.1"
      ]
     },
     "execution_count": 11,
     "metadata": {},
     "output_type": "execute_result"
    }
   ],
   "source": [
    "df22 = df2.loc[:,feats]\n",
    "df22.head()"
   ]
  },
  {
   "cell_type": "code",
   "execution_count": 12,
   "metadata": {
    "ExecuteTime": {
     "end_time": "2020-07-12T03:06:58.417843Z",
     "start_time": "2020-07-12T03:06:54.923610Z"
    }
   },
   "outputs": [
    {
     "data": {
      "image/png": "[encoded data removed]",
      "text/plain": [
       "<Figure size 1440x1080 with 16 Axes>"
      ]
     },
     "metadata": {
      "needs_background": "light"
     },
     "output_type": "display_data"
    }
   ],
   "source": [
    "pd.plotting.scatter_matrix(df22, figsize=(20,15), marker='x', color='green', alpha=0.4)\n",
    "plt.show()"
   ]
  },
  {
   "cell_type": "markdown",
   "metadata": {},
   "source": [
    "Note that there is substantial correlation between the `play_star_rating`, `star_rating` and `val_star_rating`. While this could lead to multicollinearity in your eventual regression model, it is too early to clearly determine this at this point. Remember that multicollinearity is a relationship between 3 or more variables while correlation simply investigates the relationship between two variables.\n",
    "\n",
    "Additionally, these relationships provide an alternative method for imputing missing values: since they appear to be correlated, you could use these features to help impute missing values in the others features. For example, if you are missing the `star_rating` for a particular row but have the `val_star_rating` for that same entry, it seems reasonable to assume that it is a good estimate for the missing `star_rating` value as they are highly correlated. That said, doing so does come with risks; indeed you would be further increasing the correlation between these features which could further provoke multicollinearity in the final model.\n",
    "\n",
    "Investigate if you could use one of the other star rating features when one is missing. How many rows have one of `play_star_rating`, `star_rating` and `val_star_rating` missing, but not all three."
   ]
  },
  {
   "cell_type": "code",
   "execution_count": 13,
   "metadata": {
    "ExecuteTime": {
     "end_time": "2020-07-12T03:07:33.903046Z",
     "start_time": "2020-07-12T03:07:30.945832Z"
    }
   },
   "outputs": [
    {
     "name": "stdout",
     "output_type": "stream",
     "text": [
      "in row-200 nan, nan, nan!\n",
      "in row-2300 nan, nan, nan!\n",
      "in row-2400 nan, nan, nan!\n",
      "in row-2500 nan, nan, nan!\n",
      "in row-3800 nan, nan, nan!\n",
      "in row-5800 nan, nan, nan!\n",
      "in row-6200 nan, nan, nan!\n",
      "in row-6500 nan, nan, nan!\n",
      "in row-6800 nan, nan, nan!\n",
      "in row-7200 nan, nan, nan!\n",
      "in row-9100 nan, nan, nan!\n",
      "in row-9200 nan, nan, nan!\n",
      "in row-10100 nan, nan, nan!\n",
      "1421\n"
     ]
    },
    {
     "data": {
      "text/plain": [
       "0.131"
      ]
     },
     "execution_count": 13,
     "metadata": {},
     "output_type": "execute_result"
    }
   ],
   "source": [
    "# Your code here\n",
    "# Number missing all three: 1421\n",
    "def count_allnull_cols(df, col1, col2, col3):\n",
    "    df_clone = df.copy()\n",
    "    count = 0\n",
    "    for i, row in df_clone.iterrows():\n",
    "        if (math.isnan(df_clone.loc[i, col1])) & (math.isnan(df_clone.loc[i, col2])) & (math.isnan(df_clone.loc[i, col3])):\n",
    "            if i%100 == 0:\n",
    "                print(f'in row-{i} {df_clone.loc[i, col1]}, {df_clone.loc[i, col2]}, {df_clone.loc[i, col3]}!')\n",
    "            count += 1\n",
    "    return count\n",
    "num = count_allnull_cols(df2, 'play_star_rating', 'star_rating', 'val_star_rating')\n",
    "print(num)\n",
    "round(np.divide(num, df2.shape[0]),3)"
   ]
  },
  {
   "cell_type": "markdown",
   "metadata": {},
   "source": [
    "Well, it seems like when one is missing, the other two are also apt to be missing. While this has been a bit of an extended investigation, simply go ahead and fill the missing values with that feature's median. Fill in the missing values of `review_difficulty` feature  with string `'unknown'`."
   ]
  },
  {
   "cell_type": "code",
   "execution_count": 14,
   "metadata": {
    "ExecuteTime": {
     "end_time": "2020-07-12T03:07:35.924193Z",
     "start_time": "2020-07-12T03:07:35.900191Z"
    }
   },
   "outputs": [
    {
     "name": "stdout",
     "output_type": "stream",
     "text": [
      "play_star_rating: median 4.5\n"
     ]
    },
    {
     "data": {
      "text/plain": [
       "False"
      ]
     },
     "execution_count": 14,
     "metadata": {},
     "output_type": "execute_result"
    }
   ],
   "source": [
    "# Your code here\n",
    "def fill_null_cols(df, col):\n",
    "    df_clone = df.copy()\n",
    "    try:\n",
    "        median = df_clone[col].median()\n",
    "        print(f'{col}: median {median}')\n",
    "        df_clone[col] = df_clone[col].fillna(median)\n",
    "    except:\n",
    "        print('N/A')\n",
    "    return df_clone\n",
    "\n",
    "df3 = fill_null_cols(df2, 'play_star_rating')\n",
    "df3.play_star_rating.isna().any()"
   ]
  },
  {
   "cell_type": "code",
   "execution_count": 15,
   "metadata": {
    "ExecuteTime": {
     "end_time": "2020-07-12T03:07:38.237361Z",
     "start_time": "2020-07-12T03:07:38.215360Z"
    }
   },
   "outputs": [
    {
     "name": "stdout",
     "output_type": "stream",
     "text": [
      "star_rating: median 4.6\n"
     ]
    },
    {
     "data": {
      "text/plain": [
       "False"
      ]
     },
     "execution_count": 15,
     "metadata": {},
     "output_type": "execute_result"
    }
   ],
   "source": [
    "df4 = fill_null_cols(df3, 'star_rating')\n",
    "df4.star_rating.isna().any()"
   ]
  },
  {
   "cell_type": "code",
   "execution_count": 16,
   "metadata": {
    "ExecuteTime": {
     "end_time": "2020-07-12T03:07:41.185575Z",
     "start_time": "2020-07-12T03:07:41.163578Z"
    }
   },
   "outputs": [
    {
     "name": "stdout",
     "output_type": "stream",
     "text": [
      "val_star_rating: median 4.3\n"
     ]
    },
    {
     "data": {
      "text/plain": [
       "False"
      ]
     },
     "execution_count": 16,
     "metadata": {},
     "output_type": "execute_result"
    }
   ],
   "source": [
    "df5 = fill_null_cols(df4, 'val_star_rating')\n",
    "df5.star_rating.isna().any()"
   ]
  },
  {
   "cell_type": "code",
   "execution_count": 17,
   "metadata": {
    "ExecuteTime": {
     "end_time": "2020-07-12T03:07:44.536819Z",
     "start_time": "2020-07-12T03:07:44.515816Z"
    }
   },
   "outputs": [
    {
     "name": "stdout",
     "output_type": "stream",
     "text": [
      "num_reviews: median 6.0\n"
     ]
    },
    {
     "data": {
      "text/plain": [
       "False"
      ]
     },
     "execution_count": 17,
     "metadata": {},
     "output_type": "execute_result"
    }
   ],
   "source": [
    "df6 = fill_null_cols(df5, 'num_reviews')\n",
    "df6.star_rating.isna().any()"
   ]
  },
  {
   "cell_type": "code",
   "execution_count": 18,
   "metadata": {
    "ExecuteTime": {
     "end_time": "2020-07-12T03:07:50.270234Z",
     "start_time": "2020-07-12T03:07:50.238231Z"
    }
   },
   "outputs": [
    {
     "data": {
      "text/plain": [
       "prod_id                 0\n",
       "ages                    0\n",
       "piece_count             0\n",
       "set_name                0\n",
       "prod_desc             358\n",
       "prod_long_desc          0\n",
       "theme_name              0\n",
       "country                 0\n",
       "list_price              0\n",
       "num_reviews             0\n",
       "play_star_rating        0\n",
       "review_difficulty    1766\n",
       "star_rating             0\n",
       "val_star_rating         0\n",
       "dtype: int64"
      ]
     },
     "execution_count": 18,
     "metadata": {},
     "output_type": "execute_result"
    }
   ],
   "source": [
    "df6.isna().sum()"
   ]
  },
  {
   "cell_type": "code",
   "execution_count": 19,
   "metadata": {
    "ExecuteTime": {
     "end_time": "2020-07-12T03:07:55.925642Z",
     "start_time": "2020-07-12T03:07:55.906641Z"
    }
   },
   "outputs": [
    {
     "data": {
      "text/plain": [
       "False"
      ]
     },
     "execution_count": 19,
     "metadata": {},
     "output_type": "execute_result"
    }
   ],
   "source": [
    "def replace_null_cols(df, col):\n",
    "    df_clone = df.copy()\n",
    "    df_clone[col] = df_clone[col].fillna('unknown')\n",
    "    return df_clone\n",
    "\n",
    "df7 = replace_null_cols(df6, 'review_difficulty')\n",
    "df7.review_difficulty.isna().any()"
   ]
  },
  {
   "cell_type": "code",
   "execution_count": 20,
   "metadata": {
    "ExecuteTime": {
     "end_time": "2020-07-12T03:08:01.345036Z",
     "start_time": "2020-07-12T03:08:01.324036Z"
    }
   },
   "outputs": [
    {
     "data": {
      "text/plain": [
       "prod_id                0\n",
       "ages                   0\n",
       "piece_count            0\n",
       "set_name               0\n",
       "prod_desc            358\n",
       "prod_long_desc         0\n",
       "theme_name             0\n",
       "country                0\n",
       "list_price             0\n",
       "num_reviews            0\n",
       "play_star_rating       0\n",
       "review_difficulty      0\n",
       "star_rating            0\n",
       "val_star_rating        0\n",
       "dtype: int64"
      ]
     },
     "execution_count": 20,
     "metadata": {},
     "output_type": "execute_result"
    }
   ],
   "source": [
    "df7.isna().sum()"
   ]
  },
  {
   "cell_type": "markdown",
   "metadata": {},
   "source": [
    "## Normalizing the Data\n",
    "\n",
    "Now, you'll need to convert all of our numeric columns to the same scale by **_normalizing_** our dataset.  Recall that you normalize a dataset by converting each numeric value to it's corresponding z-score for the column, which is obtained by subtracting the column's mean and then dividing by the column's standard deviation for every value. \n",
    "\n",
    "\n",
    "In the cell below:\n",
    "\n",
    "* Normalize the numeric X features by subtracting the column mean and dividing by the column standard deviation. \n",
    "(Don't bother to normalize the `list_price` as this is the feature you will be predicting.)"
   ]
  },
  {
   "cell_type": "code",
   "execution_count": 21,
   "metadata": {
    "ExecuteTime": {
     "end_time": "2020-07-12T03:08:06.608419Z",
     "start_time": "2020-07-12T03:08:06.532413Z"
    }
   },
   "outputs": [
    {
     "data": {
      "text/html": [
       "<div>\n",
       "<style scoped>\n",
       "    .dataframe tbody tr th:only-of-type {\n",
       "        vertical-align: middle;\n",
       "    }\n",
       "\n",
       "    .dataframe tbody tr th {\n",
       "        vertical-align: top;\n",
       "    }\n",
       "\n",
       "    .dataframe thead th {\n",
       "        text-align: right;\n",
       "    }\n",
       "</style>\n",
       "<table border=\"1\" class=\"dataframe\">\n",
       "  <thead>\n",
       "    <tr style=\"text-align: right;\">\n",
       "      <th></th>\n",
       "      <th>prod_id</th>\n",
       "      <th>piece_count</th>\n",
       "      <th>list_price</th>\n",
       "      <th>num_reviews</th>\n",
       "      <th>play_star_rating</th>\n",
       "      <th>star_rating</th>\n",
       "      <th>val_star_rating</th>\n",
       "    </tr>\n",
       "  </thead>\n",
       "  <tbody>\n",
       "    <tr>\n",
       "      <td>count</td>\n",
       "      <td>1.087000e+04</td>\n",
       "      <td>10870.000000</td>\n",
       "      <td>10870.000000</td>\n",
       "      <td>10870.000000</td>\n",
       "      <td>10870.000000</td>\n",
       "      <td>10870.000000</td>\n",
       "      <td>10870.000000</td>\n",
       "    </tr>\n",
       "    <tr>\n",
       "      <td>mean</td>\n",
       "      <td>6.181634e+04</td>\n",
       "      <td>503.936431</td>\n",
       "      <td>67.309137</td>\n",
       "      <td>16.269365</td>\n",
       "      <td>4.376017</td>\n",
       "      <td>4.522042</td>\n",
       "      <td>4.226789</td>\n",
       "    </tr>\n",
       "    <tr>\n",
       "      <td>std</td>\n",
       "      <td>1.736390e+05</td>\n",
       "      <td>831.209318</td>\n",
       "      <td>94.669414</td>\n",
       "      <td>35.806576</td>\n",
       "      <td>0.573827</td>\n",
       "      <td>0.482468</td>\n",
       "      <td>0.621323</td>\n",
       "    </tr>\n",
       "    <tr>\n",
       "      <td>min</td>\n",
       "      <td>6.300000e+02</td>\n",
       "      <td>1.000000</td>\n",
       "      <td>2.272400</td>\n",
       "      <td>1.000000</td>\n",
       "      <td>1.000000</td>\n",
       "      <td>1.800000</td>\n",
       "      <td>1.000000</td>\n",
       "    </tr>\n",
       "    <tr>\n",
       "      <td>25%</td>\n",
       "      <td>2.112300e+04</td>\n",
       "      <td>97.000000</td>\n",
       "      <td>21.899000</td>\n",
       "      <td>3.000000</td>\n",
       "      <td>4.100000</td>\n",
       "      <td>4.300000</td>\n",
       "      <td>4.000000</td>\n",
       "    </tr>\n",
       "    <tr>\n",
       "      <td>50%</td>\n",
       "      <td>4.207350e+04</td>\n",
       "      <td>223.000000</td>\n",
       "      <td>36.587800</td>\n",
       "      <td>6.000000</td>\n",
       "      <td>4.500000</td>\n",
       "      <td>4.600000</td>\n",
       "      <td>4.300000</td>\n",
       "    </tr>\n",
       "    <tr>\n",
       "      <td>75%</td>\n",
       "      <td>7.124800e+04</td>\n",
       "      <td>556.000000</td>\n",
       "      <td>73.187800</td>\n",
       "      <td>12.000000</td>\n",
       "      <td>4.700000</td>\n",
       "      <td>4.900000</td>\n",
       "      <td>4.600000</td>\n",
       "    </tr>\n",
       "    <tr>\n",
       "      <td>max</td>\n",
       "      <td>2.000431e+06</td>\n",
       "      <td>7541.000000</td>\n",
       "      <td>1104.870000</td>\n",
       "      <td>367.000000</td>\n",
       "      <td>5.000000</td>\n",
       "      <td>5.000000</td>\n",
       "      <td>5.000000</td>\n",
       "    </tr>\n",
       "  </tbody>\n",
       "</table>\n",
       "</div>"
      ],
      "text/plain": [
       "            prod_id   piece_count    list_price   num_reviews  \\\n",
       "count  1.087000e+04  10870.000000  10870.000000  10870.000000   \n",
       "mean   6.181634e+04    503.936431     67.309137     16.269365   \n",
       "std    1.736390e+05    831.209318     94.669414     35.806576   \n",
       "min    6.300000e+02      1.000000      2.272400      1.000000   \n",
       "25%    2.112300e+04     97.000000     21.899000      3.000000   \n",
       "50%    4.207350e+04    223.000000     36.587800      6.000000   \n",
       "75%    7.124800e+04    556.000000     73.187800     12.000000   \n",
       "max    2.000431e+06   7541.000000   1104.870000    367.000000   \n",
       "\n",
       "       play_star_rating   star_rating  val_star_rating  \n",
       "count      10870.000000  10870.000000     10870.000000  \n",
       "mean           4.376017      4.522042         4.226789  \n",
       "std            0.573827      0.482468         0.621323  \n",
       "min            1.000000      1.800000         1.000000  \n",
       "25%            4.100000      4.300000         4.000000  \n",
       "50%            4.500000      4.600000         4.300000  \n",
       "75%            4.700000      4.900000         4.600000  \n",
       "max            5.000000      5.000000         5.000000  "
      ]
     },
     "execution_count": 21,
     "metadata": {},
     "output_type": "execute_result"
    }
   ],
   "source": [
    "df7.describe()"
   ]
  },
  {
   "cell_type": "code",
   "execution_count": 22,
   "metadata": {
    "ExecuteTime": {
     "end_time": "2020-07-12T03:08:11.744792Z",
     "start_time": "2020-07-12T03:08:11.608780Z"
    }
   },
   "outputs": [
    {
     "name": "stdout",
     "output_type": "stream",
     "text": [
      "num_reviews\n",
      "play_star_rating\n",
      "star_rating\n",
      "val_star_rating\n"
     ]
    },
    {
     "data": {
      "text/html": [
       "<div>\n",
       "<style scoped>\n",
       "    .dataframe tbody tr th:only-of-type {\n",
       "        vertical-align: middle;\n",
       "    }\n",
       "\n",
       "    .dataframe tbody tr th {\n",
       "        vertical-align: top;\n",
       "    }\n",
       "\n",
       "    .dataframe thead th {\n",
       "        text-align: right;\n",
       "    }\n",
       "</style>\n",
       "<table border=\"1\" class=\"dataframe\">\n",
       "  <thead>\n",
       "    <tr style=\"text-align: right;\">\n",
       "      <th></th>\n",
       "      <th>prod_id</th>\n",
       "      <th>piece_count</th>\n",
       "      <th>list_price</th>\n",
       "      <th>num_reviews</th>\n",
       "      <th>play_star_rating</th>\n",
       "      <th>star_rating</th>\n",
       "      <th>val_star_rating</th>\n",
       "    </tr>\n",
       "  </thead>\n",
       "  <tbody>\n",
       "    <tr>\n",
       "      <td>count</td>\n",
       "      <td>1.087000e+04</td>\n",
       "      <td>10870.000000</td>\n",
       "      <td>10870.000000</td>\n",
       "      <td>1.087000e+04</td>\n",
       "      <td>1.087000e+04</td>\n",
       "      <td>1.087000e+04</td>\n",
       "      <td>1.087000e+04</td>\n",
       "    </tr>\n",
       "    <tr>\n",
       "      <td>mean</td>\n",
       "      <td>6.181634e+04</td>\n",
       "      <td>503.936431</td>\n",
       "      <td>67.309137</td>\n",
       "      <td>-2.287856e-18</td>\n",
       "      <td>1.034111e-15</td>\n",
       "      <td>-1.653139e-15</td>\n",
       "      <td>2.881882e-16</td>\n",
       "    </tr>\n",
       "    <tr>\n",
       "      <td>std</td>\n",
       "      <td>1.736390e+05</td>\n",
       "      <td>831.209318</td>\n",
       "      <td>94.669414</td>\n",
       "      <td>1.000000e+00</td>\n",
       "      <td>1.000000e+00</td>\n",
       "      <td>1.000000e+00</td>\n",
       "      <td>1.000000e+00</td>\n",
       "    </tr>\n",
       "    <tr>\n",
       "      <td>min</td>\n",
       "      <td>6.300000e+02</td>\n",
       "      <td>1.000000</td>\n",
       "      <td>2.272400</td>\n",
       "      <td>-4.264402e-01</td>\n",
       "      <td>-5.883334e+00</td>\n",
       "      <td>-5.641909e+00</td>\n",
       "      <td>-5.193413e+00</td>\n",
       "    </tr>\n",
       "    <tr>\n",
       "      <td>25%</td>\n",
       "      <td>2.112300e+04</td>\n",
       "      <td>97.000000</td>\n",
       "      <td>21.899000</td>\n",
       "      <td>-3.705846e-01</td>\n",
       "      <td>-4.810100e-01</td>\n",
       "      <td>-4.602216e-01</td>\n",
       "      <td>-3.650101e-01</td>\n",
       "    </tr>\n",
       "    <tr>\n",
       "      <td>50%</td>\n",
       "      <td>4.207350e+04</td>\n",
       "      <td>223.000000</td>\n",
       "      <td>36.587800</td>\n",
       "      <td>-2.868011e-01</td>\n",
       "      <td>2.160641e-01</td>\n",
       "      <td>1.615809e-01</td>\n",
       "      <td>1.178302e-01</td>\n",
       "    </tr>\n",
       "    <tr>\n",
       "      <td>75%</td>\n",
       "      <td>7.124800e+04</td>\n",
       "      <td>556.000000</td>\n",
       "      <td>73.187800</td>\n",
       "      <td>-1.192341e-01</td>\n",
       "      <td>5.646012e-01</td>\n",
       "      <td>7.833834e-01</td>\n",
       "      <td>6.006705e-01</td>\n",
       "    </tr>\n",
       "    <tr>\n",
       "      <td>max</td>\n",
       "      <td>2.000431e+06</td>\n",
       "      <td>7541.000000</td>\n",
       "      <td>1104.870000</td>\n",
       "      <td>9.795146e+00</td>\n",
       "      <td>1.087407e+00</td>\n",
       "      <td>9.906510e-01</td>\n",
       "      <td>1.244458e+00</td>\n",
       "    </tr>\n",
       "  </tbody>\n",
       "</table>\n",
       "</div>"
      ],
      "text/plain": [
       "            prod_id   piece_count    list_price   num_reviews  \\\n",
       "count  1.087000e+04  10870.000000  10870.000000  1.087000e+04   \n",
       "mean   6.181634e+04    503.936431     67.309137 -2.287856e-18   \n",
       "std    1.736390e+05    831.209318     94.669414  1.000000e+00   \n",
       "min    6.300000e+02      1.000000      2.272400 -4.264402e-01   \n",
       "25%    2.112300e+04     97.000000     21.899000 -3.705846e-01   \n",
       "50%    4.207350e+04    223.000000     36.587800 -2.868011e-01   \n",
       "75%    7.124800e+04    556.000000     73.187800 -1.192341e-01   \n",
       "max    2.000431e+06   7541.000000   1104.870000  9.795146e+00   \n",
       "\n",
       "       play_star_rating   star_rating  val_star_rating  \n",
       "count      1.087000e+04  1.087000e+04     1.087000e+04  \n",
       "mean       1.034111e-15 -1.653139e-15     2.881882e-16  \n",
       "std        1.000000e+00  1.000000e+00     1.000000e+00  \n",
       "min       -5.883334e+00 -5.641909e+00    -5.193413e+00  \n",
       "25%       -4.810100e-01 -4.602216e-01    -3.650101e-01  \n",
       "50%        2.160641e-01  1.615809e-01     1.178302e-01  \n",
       "75%        5.646012e-01  7.833834e-01     6.006705e-01  \n",
       "max        1.087407e+00  9.906510e-01     1.244458e+00  "
      ]
     },
     "execution_count": 22,
     "metadata": {},
     "output_type": "execute_result"
    }
   ],
   "source": [
    "# Your code here\n",
    "def normalize(feature):\n",
    "    return (feature - np.mean(feature)) / np.std(feature)\n",
    "\n",
    "def feat_norm(df, col):\n",
    "    df_clone = df.copy()\n",
    "    df_clone[col] = (df_clone[col] - df_clone[col].mean()) / df_clone[col].std()\n",
    "    return df_clone\n",
    "\n",
    "count = 0\n",
    "for feat in feats:\n",
    "    print(feat)\n",
    "    count += 1\n",
    "    if count == 1:\n",
    "        df8 = feat_norm(df7, feat)\n",
    "    else:\n",
    "        df8 = feat_norm(df8, feat)\n",
    "    \n",
    "df8.describe()"
   ]
  },
  {
   "cell_type": "code",
   "execution_count": 23,
   "metadata": {
    "ExecuteTime": {
     "end_time": "2020-07-12T03:09:18.398766Z",
     "start_time": "2020-07-12T03:09:18.388758Z"
    }
   },
   "outputs": [],
   "source": [
    "df82 = df8.loc[:,['list_price','num_reviews','play_star_rating','star_rating','val_star_rating']]"
   ]
  },
  {
   "cell_type": "code",
   "execution_count": 24,
   "metadata": {
    "ExecuteTime": {
     "end_time": "2020-07-12T03:09:35.024835Z",
     "start_time": "2020-07-12T03:09:30.408504Z"
    }
   },
   "outputs": [
    {
     "data": {
      "image/png": "[encoded data removed]",
      "text/plain": [
       "<Figure size 1800x1440 with 25 Axes>"
      ]
     },
     "metadata": {
      "needs_background": "light"
     },
     "output_type": "display_data"
    }
   ],
   "source": [
    "pd.plotting.scatter_matrix(df82, figsize=(25,20), marker='x', color='green', alpha=0.4)\n",
    "plt.show()"
   ]
  },
  {
   "cell_type": "markdown",
   "metadata": {},
   "source": [
    "## Saving Your Results\n",
    "\n",
    "While you'll once again practice one-hot encoding as you would to preprocess data before fitting a model, saving such a reperesentation of the data will eat up additional disk space. After all, a categorical variable with 10 bins will be transformed to 10 seperate features when passed through `pd.get_dummies()`. As such, while further practice is worthwhile, save your DataFrame as-is for now."
   ]
  },
  {
   "cell_type": "code",
   "execution_count": 25,
   "metadata": {
    "ExecuteTime": {
     "end_time": "2020-07-12T03:11:55.895301Z",
     "start_time": "2020-07-12T03:11:55.083087Z"
    }
   },
   "outputs": [],
   "source": [
    "# Your code here\n",
    "df8.to_csv(\"Lego_dataset_cleaned.csv\", index=False)"
   ]
  },
  {
   "cell_type": "markdown",
   "metadata": {},
   "source": [
    "## One-Hot Encoding Categorical Columns\n",
    "\n",
    "As a final step, you'll need to deal with the categorical columns by **_one-hot encoding_** them into binary variables via the `pd.get_dummies()` function.  \n",
    "\n",
    "When doing this, you may also need to subset the appropriate features to avoid encoding the wrong data. The `get_dummies()` function by default converts all columns with *object* or *category* dtype. However, you should always check the result of calling `get_dummies()` to ensure that only the categorical variables have been transformed. Consult the [documentation](https://pandas.pydata.org/pandas-docs/stable/generated/pandas.get_dummies.html) for more details. If you are ever unsure of the data types, call the `.info()` method.\n",
    "\n",
    "In the cell below, subset to the appropriate predictive features and then use `pd.get_dummies()` to one-hot encode the dataset properly."
   ]
  },
  {
   "cell_type": "code",
   "execution_count": 26,
   "metadata": {
    "ExecuteTime": {
     "end_time": "2020-07-12T03:12:01.383700Z",
     "start_time": "2020-07-12T03:12:01.370697Z"
    }
   },
   "outputs": [
    {
     "data": {
      "text/plain": [
       "Index(['prod_id', 'ages', 'piece_count', 'set_name', 'prod_desc',\n",
       "       'prod_long_desc', 'theme_name', 'country', 'list_price', 'num_reviews',\n",
       "       'play_star_rating', 'review_difficulty', 'star_rating',\n",
       "       'val_star_rating'],\n",
       "      dtype='object')"
      ]
     },
     "execution_count": 26,
     "metadata": {},
     "output_type": "execute_result"
    }
   ],
   "source": [
    "# Your code here\n",
    "df8.columns"
   ]
  },
  {
   "cell_type": "code",
   "execution_count": 27,
   "metadata": {
    "ExecuteTime": {
     "end_time": "2020-07-12T03:12:06.895098Z",
     "start_time": "2020-07-12T03:12:06.873098Z"
    }
   },
   "outputs": [
    {
     "name": "stdout",
     "output_type": "stream",
     "text": [
      "<class 'pandas.core.frame.DataFrame'>\n",
      "RangeIndex: 10870 entries, 0 to 10869\n",
      "Data columns (total 14 columns):\n",
      "prod_id              10870 non-null int64\n",
      "ages                 10870 non-null object\n",
      "piece_count          10870 non-null int64\n",
      "set_name             10870 non-null object\n",
      "prod_desc            10512 non-null object\n",
      "prod_long_desc       10870 non-null object\n",
      "theme_name           10870 non-null object\n",
      "country              10870 non-null object\n",
      "list_price           10870 non-null float64\n",
      "num_reviews          10870 non-null float64\n",
      "play_star_rating     10870 non-null float64\n",
      "review_difficulty    10870 non-null object\n",
      "star_rating          10870 non-null float64\n",
      "val_star_rating      10870 non-null float64\n",
      "dtypes: float64(5), int64(2), object(7)\n",
      "memory usage: 1.2+ MB\n"
     ]
    }
   ],
   "source": [
    "df8.info()"
   ]
  },
  {
   "cell_type": "code",
   "execution_count": 28,
   "metadata": {
    "ExecuteTime": {
     "end_time": "2020-07-12T03:12:11.771451Z",
     "start_time": "2020-07-12T03:12:11.762453Z"
    }
   },
   "outputs": [
    {
     "data": {
      "text/plain": [
       "724"
      ]
     },
     "execution_count": 28,
     "metadata": {},
     "output_type": "execute_result"
    }
   ],
   "source": [
    "df8.prod_desc.nunique()"
   ]
  },
  {
   "cell_type": "code",
   "execution_count": 29,
   "metadata": {
    "ExecuteTime": {
     "end_time": "2020-07-12T03:12:16.636802Z",
     "start_time": "2020-07-12T03:12:16.581800Z"
    }
   },
   "outputs": [
    {
     "data": {
      "text/plain": [
       "744"
      ]
     },
     "execution_count": 29,
     "metadata": {},
     "output_type": "execute_result"
    }
   ],
   "source": [
    "df8.prod_long_desc.nunique()"
   ]
  },
  {
   "cell_type": "code",
   "execution_count": 30,
   "metadata": {
    "ExecuteTime": {
     "end_time": "2020-07-12T03:12:22.029193Z",
     "start_time": "2020-07-12T03:12:22.007194Z"
    }
   },
   "outputs": [
    {
     "data": {
      "text/html": [
       "<div>\n",
       "<style scoped>\n",
       "    .dataframe tbody tr th:only-of-type {\n",
       "        vertical-align: middle;\n",
       "    }\n",
       "\n",
       "    .dataframe tbody tr th {\n",
       "        vertical-align: top;\n",
       "    }\n",
       "\n",
       "    .dataframe thead th {\n",
       "        text-align: right;\n",
       "    }\n",
       "</style>\n",
       "<table border=\"1\" class=\"dataframe\">\n",
       "  <thead>\n",
       "    <tr style=\"text-align: right;\">\n",
       "      <th></th>\n",
       "      <th>ages</th>\n",
       "      <th>piece_count</th>\n",
       "      <th>theme_name</th>\n",
       "      <th>country</th>\n",
       "      <th>list_price</th>\n",
       "      <th>num_reviews</th>\n",
       "      <th>play_star_rating</th>\n",
       "      <th>review_difficulty</th>\n",
       "      <th>star_rating</th>\n",
       "      <th>val_star_rating</th>\n",
       "    </tr>\n",
       "  </thead>\n",
       "  <tbody>\n",
       "    <tr>\n",
       "      <td>0</td>\n",
       "      <td>6-12</td>\n",
       "      <td>277</td>\n",
       "      <td>Angry Birdsâ¢</td>\n",
       "      <td>US</td>\n",
       "      <td>29.99</td>\n",
       "      <td>-0.398512</td>\n",
       "      <td>-0.655279</td>\n",
       "      <td>Average</td>\n",
       "      <td>-0.045687</td>\n",
       "      <td>-0.365010</td>\n",
       "    </tr>\n",
       "    <tr>\n",
       "      <td>1</td>\n",
       "      <td>6-12</td>\n",
       "      <td>168</td>\n",
       "      <td>Angry Birdsâ¢</td>\n",
       "      <td>US</td>\n",
       "      <td>19.99</td>\n",
       "      <td>-0.398512</td>\n",
       "      <td>-0.655279</td>\n",
       "      <td>Easy</td>\n",
       "      <td>0.990651</td>\n",
       "      <td>-0.365010</td>\n",
       "    </tr>\n",
       "    <tr>\n",
       "      <td>2</td>\n",
       "      <td>6-12</td>\n",
       "      <td>74</td>\n",
       "      <td>Angry Birdsâ¢</td>\n",
       "      <td>US</td>\n",
       "      <td>12.99</td>\n",
       "      <td>-0.147162</td>\n",
       "      <td>-0.132473</td>\n",
       "      <td>Easy</td>\n",
       "      <td>-0.460222</td>\n",
       "      <td>-0.204063</td>\n",
       "    </tr>\n",
       "    <tr>\n",
       "      <td>3</td>\n",
       "      <td>12+</td>\n",
       "      <td>1032</td>\n",
       "      <td>Architecture</td>\n",
       "      <td>US</td>\n",
       "      <td>99.99</td>\n",
       "      <td>0.187972</td>\n",
       "      <td>-1.352353</td>\n",
       "      <td>Average</td>\n",
       "      <td>0.161581</td>\n",
       "      <td>0.117830</td>\n",
       "    </tr>\n",
       "    <tr>\n",
       "      <td>4</td>\n",
       "      <td>12+</td>\n",
       "      <td>744</td>\n",
       "      <td>Architecture</td>\n",
       "      <td>US</td>\n",
       "      <td>79.99</td>\n",
       "      <td>-0.063378</td>\n",
       "      <td>-2.049427</td>\n",
       "      <td>Challenging</td>\n",
       "      <td>0.161581</td>\n",
       "      <td>-0.204063</td>\n",
       "    </tr>\n",
       "  </tbody>\n",
       "</table>\n",
       "</div>"
      ],
      "text/plain": [
       "   ages  piece_count      theme_name country  list_price  num_reviews  \\\n",
       "0  6-12          277  Angry Birdsâ¢      US       29.99    -0.398512   \n",
       "1  6-12          168  Angry Birdsâ¢      US       19.99    -0.398512   \n",
       "2  6-12           74  Angry Birdsâ¢      US       12.99    -0.147162   \n",
       "3   12+         1032    Architecture      US       99.99     0.187972   \n",
       "4   12+          744    Architecture      US       79.99    -0.063378   \n",
       "\n",
       "   play_star_rating review_difficulty  star_rating  val_star_rating  \n",
       "0         -0.655279           Average    -0.045687        -0.365010  \n",
       "1         -0.655279              Easy     0.990651        -0.365010  \n",
       "2         -0.132473              Easy    -0.460222        -0.204063  \n",
       "3         -1.352353           Average     0.161581         0.117830  \n",
       "4         -2.049427       Challenging     0.161581        -0.204063  "
      ]
     },
     "execution_count": 30,
     "metadata": {},
     "output_type": "execute_result"
    }
   ],
   "source": [
    "cats = ['ages', 'piece_count', 'theme_name', 'country', 'list_price', 'num_reviews', 'play_star_rating', 'review_difficulty', \n",
    "        'star_rating', 'val_star_rating']\n",
    "df9 = df8.loc[:, cats]\n",
    "df9.head()"
   ]
  },
  {
   "cell_type": "code",
   "execution_count": 31,
   "metadata": {
    "ExecuteTime": {
     "end_time": "2020-07-12T03:12:27.189383Z",
     "start_time": "2020-07-12T03:12:27.171383Z"
    }
   },
   "outputs": [
    {
     "name": "stdout",
     "output_type": "stream",
     "text": [
      "<class 'pandas.core.frame.DataFrame'>\n",
      "RangeIndex: 10870 entries, 0 to 10869\n",
      "Data columns (total 10 columns):\n",
      "ages                 10870 non-null object\n",
      "piece_count          10870 non-null int64\n",
      "theme_name           10870 non-null object\n",
      "country              10870 non-null object\n",
      "list_price           10870 non-null float64\n",
      "num_reviews          10870 non-null float64\n",
      "play_star_rating     10870 non-null float64\n",
      "review_difficulty    10870 non-null object\n",
      "star_rating          10870 non-null float64\n",
      "val_star_rating      10870 non-null float64\n",
      "dtypes: float64(5), int64(1), object(4)\n",
      "memory usage: 849.3+ KB\n"
     ]
    }
   ],
   "source": [
    "df9.info()"
   ]
  },
  {
   "cell_type": "code",
   "execution_count": 32,
   "metadata": {
    "ExecuteTime": {
     "end_time": "2020-07-12T03:12:32.431765Z",
     "start_time": "2020-07-12T03:12:32.360761Z"
    }
   },
   "outputs": [
    {
     "data": {
      "text/html": [
       "<div>\n",
       "<style scoped>\n",
       "    .dataframe tbody tr th:only-of-type {\n",
       "        vertical-align: middle;\n",
       "    }\n",
       "\n",
       "    .dataframe tbody tr th {\n",
       "        vertical-align: top;\n",
       "    }\n",
       "\n",
       "    .dataframe thead th {\n",
       "        text-align: right;\n",
       "    }\n",
       "</style>\n",
       "<table border=\"1\" class=\"dataframe\">\n",
       "  <thead>\n",
       "    <tr style=\"text-align: right;\">\n",
       "      <th></th>\n",
       "      <th>piece_count</th>\n",
       "      <th>list_price</th>\n",
       "      <th>num_reviews</th>\n",
       "      <th>play_star_rating</th>\n",
       "      <th>star_rating</th>\n",
       "      <th>val_star_rating</th>\n",
       "      <th>ages_10-14</th>\n",
       "      <th>ages_10-16</th>\n",
       "      <th>ages_10-21</th>\n",
       "      <th>ages_11-16</th>\n",
       "      <th>...</th>\n",
       "      <th>country_NO</th>\n",
       "      <th>country_NZ</th>\n",
       "      <th>country_PL</th>\n",
       "      <th>country_PT</th>\n",
       "      <th>country_US</th>\n",
       "      <th>review_difficulty_Challenging</th>\n",
       "      <th>review_difficulty_Easy</th>\n",
       "      <th>review_difficulty_Very Challenging</th>\n",
       "      <th>review_difficulty_Very Easy</th>\n",
       "      <th>review_difficulty_unknown</th>\n",
       "    </tr>\n",
       "  </thead>\n",
       "  <tbody>\n",
       "    <tr>\n",
       "      <td>0</td>\n",
       "      <td>277</td>\n",
       "      <td>29.99</td>\n",
       "      <td>-0.398512</td>\n",
       "      <td>-0.655279</td>\n",
       "      <td>-0.045687</td>\n",
       "      <td>-0.365010</td>\n",
       "      <td>0</td>\n",
       "      <td>0</td>\n",
       "      <td>0</td>\n",
       "      <td>0</td>\n",
       "      <td>...</td>\n",
       "      <td>0</td>\n",
       "      <td>0</td>\n",
       "      <td>0</td>\n",
       "      <td>0</td>\n",
       "      <td>1</td>\n",
       "      <td>0</td>\n",
       "      <td>0</td>\n",
       "      <td>0</td>\n",
       "      <td>0</td>\n",
       "      <td>0</td>\n",
       "    </tr>\n",
       "    <tr>\n",
       "      <td>1</td>\n",
       "      <td>168</td>\n",
       "      <td>19.99</td>\n",
       "      <td>-0.398512</td>\n",
       "      <td>-0.655279</td>\n",
       "      <td>0.990651</td>\n",
       "      <td>-0.365010</td>\n",
       "      <td>0</td>\n",
       "      <td>0</td>\n",
       "      <td>0</td>\n",
       "      <td>0</td>\n",
       "      <td>...</td>\n",
       "      <td>0</td>\n",
       "      <td>0</td>\n",
       "      <td>0</td>\n",
       "      <td>0</td>\n",
       "      <td>1</td>\n",
       "      <td>0</td>\n",
       "      <td>1</td>\n",
       "      <td>0</td>\n",
       "      <td>0</td>\n",
       "      <td>0</td>\n",
       "    </tr>\n",
       "    <tr>\n",
       "      <td>2</td>\n",
       "      <td>74</td>\n",
       "      <td>12.99</td>\n",
       "      <td>-0.147162</td>\n",
       "      <td>-0.132473</td>\n",
       "      <td>-0.460222</td>\n",
       "      <td>-0.204063</td>\n",
       "      <td>0</td>\n",
       "      <td>0</td>\n",
       "      <td>0</td>\n",
       "      <td>0</td>\n",
       "      <td>...</td>\n",
       "      <td>0</td>\n",
       "      <td>0</td>\n",
       "      <td>0</td>\n",
       "      <td>0</td>\n",
       "      <td>1</td>\n",
       "      <td>0</td>\n",
       "      <td>1</td>\n",
       "      <td>0</td>\n",
       "      <td>0</td>\n",
       "      <td>0</td>\n",
       "    </tr>\n",
       "    <tr>\n",
       "      <td>3</td>\n",
       "      <td>1032</td>\n",
       "      <td>99.99</td>\n",
       "      <td>0.187972</td>\n",
       "      <td>-1.352353</td>\n",
       "      <td>0.161581</td>\n",
       "      <td>0.117830</td>\n",
       "      <td>0</td>\n",
       "      <td>0</td>\n",
       "      <td>0</td>\n",
       "      <td>0</td>\n",
       "      <td>...</td>\n",
       "      <td>0</td>\n",
       "      <td>0</td>\n",
       "      <td>0</td>\n",
       "      <td>0</td>\n",
       "      <td>1</td>\n",
       "      <td>0</td>\n",
       "      <td>0</td>\n",
       "      <td>0</td>\n",
       "      <td>0</td>\n",
       "      <td>0</td>\n",
       "    </tr>\n",
       "    <tr>\n",
       "      <td>4</td>\n",
       "      <td>744</td>\n",
       "      <td>79.99</td>\n",
       "      <td>-0.063378</td>\n",
       "      <td>-2.049427</td>\n",
       "      <td>0.161581</td>\n",
       "      <td>-0.204063</td>\n",
       "      <td>0</td>\n",
       "      <td>0</td>\n",
       "      <td>0</td>\n",
       "      <td>0</td>\n",
       "      <td>...</td>\n",
       "      <td>0</td>\n",
       "      <td>0</td>\n",
       "      <td>0</td>\n",
       "      <td>0</td>\n",
       "      <td>1</td>\n",
       "      <td>1</td>\n",
       "      <td>0</td>\n",
       "      <td>0</td>\n",
       "      <td>0</td>\n",
       "      <td>0</td>\n",
       "    </tr>\n",
       "  </tbody>\n",
       "</table>\n",
       "<p>5 rows × 99 columns</p>\n",
       "</div>"
      ],
      "text/plain": [
       "   piece_count  list_price  num_reviews  play_star_rating  star_rating  \\\n",
       "0          277       29.99    -0.398512         -0.655279    -0.045687   \n",
       "1          168       19.99    -0.398512         -0.655279     0.990651   \n",
       "2           74       12.99    -0.147162         -0.132473    -0.460222   \n",
       "3         1032       99.99     0.187972         -1.352353     0.161581   \n",
       "4          744       79.99    -0.063378         -2.049427     0.161581   \n",
       "\n",
       "   val_star_rating  ages_10-14  ages_10-16  ages_10-21  ages_11-16  ...  \\\n",
       "0        -0.365010           0           0           0           0  ...   \n",
       "1        -0.365010           0           0           0           0  ...   \n",
       "2        -0.204063           0           0           0           0  ...   \n",
       "3         0.117830           0           0           0           0  ...   \n",
       "4        -0.204063           0           0           0           0  ...   \n",
       "\n",
       "   country_NO  country_NZ  country_PL  country_PT  country_US  \\\n",
       "0           0           0           0           0           1   \n",
       "1           0           0           0           0           1   \n",
       "2           0           0           0           0           1   \n",
       "3           0           0           0           0           1   \n",
       "4           0           0           0           0           1   \n",
       "\n",
       "   review_difficulty_Challenging  review_difficulty_Easy  \\\n",
       "0                              0                       0   \n",
       "1                              0                       1   \n",
       "2                              0                       1   \n",
       "3                              0                       0   \n",
       "4                              1                       0   \n",
       "\n",
       "   review_difficulty_Very Challenging  review_difficulty_Very Easy  \\\n",
       "0                                   0                            0   \n",
       "1                                   0                            0   \n",
       "2                                   0                            0   \n",
       "3                                   0                            0   \n",
       "4                                   0                            0   \n",
       "\n",
       "   review_difficulty_unknown  \n",
       "0                          0  \n",
       "1                          0  \n",
       "2                          0  \n",
       "3                          0  \n",
       "4                          0  \n",
       "\n",
       "[5 rows x 99 columns]"
      ]
     },
     "execution_count": 32,
     "metadata": {},
     "output_type": "execute_result"
    }
   ],
   "source": [
    "df10 = pd.get_dummies(df9, drop_first=True)\n",
    "df10.head()"
   ]
  },
  {
   "cell_type": "code",
   "execution_count": 33,
   "metadata": {
    "ExecuteTime": {
     "end_time": "2020-07-12T03:12:39.152879Z",
     "start_time": "2020-07-12T03:12:39.140877Z"
    }
   },
   "outputs": [
    {
     "data": {
      "text/plain": [
       "Index(['piece_count', 'list_price', 'num_reviews', 'play_star_rating',\n",
       "       'star_rating', 'val_star_rating', 'ages_10-14', 'ages_10-16',\n",
       "       'ages_10-21', 'ages_11-16', 'ages_12+', 'ages_12-16', 'ages_14+',\n",
       "       'ages_16+', 'ages_1Â½-3', 'ages_1Â½-5', 'ages_2-5', 'ages_4+',\n",
       "       'ages_4-7', 'ages_4-99', 'ages_5+', 'ages_5-12', 'ages_5-8', 'ages_6+',\n",
       "       'ages_6-12', 'ages_6-14', 'ages_7+', 'ages_7-12', 'ages_7-14',\n",
       "       'ages_8+', 'ages_8-12', 'ages_8-14', 'ages_9+', 'ages_9-12',\n",
       "       'ages_9-14', 'ages_9-16', 'theme_name_Architecture', 'theme_name_BOOST',\n",
       "       'theme_name_Blue's Helicopter Pursuit', 'theme_name_BrickHeadz',\n",
       "       'theme_name_Carnotaurus Gyrosphere Escape', 'theme_name_City',\n",
       "       'theme_name_Classic', 'theme_name_Creator 3-in-1',\n",
       "       'theme_name_Creator Expert', 'theme_name_DC Comicsâ¢ Super Heroes',\n",
       "       'theme_name_DC Super Hero Girls', 'theme_name_DIMENSIONSâ¢',\n",
       "       'theme_name_DUPLOÂ®', 'theme_name_Dilophosaurus Outpost Attack',\n",
       "       'theme_name_Disneyâ¢', 'theme_name_Elves', 'theme_name_Friends',\n",
       "       'theme_name_Ghostbustersâ¢', 'theme_name_Ideas',\n",
       "       'theme_name_Indoraptor Rampage at Lockwood Estate',\n",
       "       'theme_name_Juniors', 'theme_name_Jurassic Park Velociraptor Chase',\n",
       "       'theme_name_MINDSTORMSÂ®', 'theme_name_Marvel Super Heroes',\n",
       "       'theme_name_Minecraftâ¢', 'theme_name_Minifigures',\n",
       "       'theme_name_NEXO KNIGHTSâ¢', 'theme_name_NINJAGOÂ®',\n",
       "       'theme_name_Power Functions', 'theme_name_Pteranodon Chase',\n",
       "       'theme_name_SERIOUS PLAYÂ®', 'theme_name_Speed Champions',\n",
       "       'theme_name_Star Warsâ¢', 'theme_name_Stygimoloch Breakout',\n",
       "       'theme_name_T. rex Transport', 'theme_name_THE LEGOÂ® BATMAN MOVIE',\n",
       "       'theme_name_THE LEGOÂ® NINJAGOÂ® MOVIEâ¢', 'theme_name_Technic',\n",
       "       'country_AU', 'country_BE', 'country_CA', 'country_CH', 'country_CZ',\n",
       "       'country_DE', 'country_DN', 'country_ES', 'country_FI', 'country_FR',\n",
       "       'country_GB', 'country_IE', 'country_IT', 'country_LU', 'country_NL',\n",
       "       'country_NO', 'country_NZ', 'country_PL', 'country_PT', 'country_US',\n",
       "       'review_difficulty_Challenging', 'review_difficulty_Easy',\n",
       "       'review_difficulty_Very Challenging', 'review_difficulty_Very Easy',\n",
       "       'review_difficulty_unknown'],\n",
       "      dtype='object')"
      ]
     },
     "execution_count": 33,
     "metadata": {},
     "output_type": "execute_result"
    }
   ],
   "source": [
    "df10.columns"
   ]
  },
  {
   "cell_type": "code",
   "execution_count": 34,
   "metadata": {
    "ExecuteTime": {
     "end_time": "2020-07-12T03:12:45.468336Z",
     "start_time": "2020-07-12T03:12:45.459336Z"
    }
   },
   "outputs": [
    {
     "data": {
      "text/plain": [
       "(10870, 99)"
      ]
     },
     "execution_count": 34,
     "metadata": {},
     "output_type": "execute_result"
    }
   ],
   "source": [
    "df10.shape"
   ]
  },
  {
   "cell_type": "code",
   "execution_count": 35,
   "metadata": {
    "ExecuteTime": {
     "end_time": "2020-07-12T03:12:54.328976Z",
     "start_time": "2020-07-12T03:12:52.989879Z"
    }
   },
   "outputs": [],
   "source": [
    "df10.to_csv('Lego_dataset_dummies.csv',index=False)"
   ]
  },
  {
   "cell_type": "markdown",
   "metadata": {},
   "source": [
    "That's it! You've now successfully scrubbed your dataset -- you're now ready for data exploration and modeling!\n",
    "\n",
    "## Summary\n",
    "\n",
    "In this lesson, you gained practice with scrubbing and cleaning data. Specifically, you addressed an incorrect data type, detected and dealt with null values, checked for multicollinearity, and transformed data. Congrats on performing the full data cleaning process for a dataset!"
   ]
  }
 ],
 "metadata": {
  "kernelspec": {
   "display_name": "Python 3",
   "language": "python",
   "name": "python3"
  },
  "language_info": {
   "codemirror_mode": {
    "name": "ipython",
    "version": 3
   },
   "file_extension": ".py",
   "mimetype": "text/x-python",
   "name": "python",
   "nbconvert_exporter": "python",
   "pygments_lexer": "ipython3",
   "version": "3.6.9"
  },
  "toc": {
   "base_numbering": 1,
   "nav_menu": {},
   "number_sections": true,
   "sideBar": true,
   "skip_h1_title": false,
   "title_cell": "Table of Contents",
   "title_sidebar": "Contents",
   "toc_cell": false,
   "toc_position": {},
   "toc_section_display": true,
   "toc_window_display": false
  },
  "varInspector": {
   "cols": {
    "lenName": 16,
    "lenType": 16,
    "lenVar": 40
   },
   "kernels_config": {
    "python": {
     "delete_cmd_postfix": "",
     "delete_cmd_prefix": "del ",
     "library": "var_list.py",
     "varRefreshCmd": "print(var_dic_list())"
    },
    "r": {
     "delete_cmd_postfix": ") ",
     "delete_cmd_prefix": "rm(",
     "library": "var_list.r",
     "varRefreshCmd": "cat(var_dic_list()) "
    }
   },
   "types_to_exclude": [
    "module",
    "function",
    "builtin_function_or_method",
    "instance",
    "_Feature"
   ],
   "window_display": false
  }
 },
 "nbformat": 4,
 "nbformat_minor": 2
}
